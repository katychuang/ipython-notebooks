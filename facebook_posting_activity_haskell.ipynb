{
 "cells": [
  {
   "cell_type": "markdown",
   "metadata": {
    "deletable": true,
    "editable": true
   },
   "source": [
    "# Reading JSON File With Haskell\n",
    "\n",
    "Author: Kat Chuang [@katychuang](http://twitter.com/katychuang) on Twitter\n",
    "\n",
    "## Objective\n",
    "\n",
    "The goal of this exercise is to parse JSON from the Facebook Graph Api using the Aeson library. \n",
    "\n",
    "I collected data from my most recent posts and previously saved json output from a [python version of this code](http://www.github.com/katychuang/ipython-notebooks/blob/master/facebook_posting_activity.ipynb) and saved it into a `file.json` \n",
    "\n",
    "---\n",
    "\n",
    "### Import data \n",
    "First import the modules we'll need for this exercise, and define the data record type to map the json fields to variables."
   ]
  },
  {
   "cell_type": "code",
   "execution_count": 3,
   "metadata": {
    "collapsed": false,
    "deletable": true,
    "editable": true
   },
   "outputs": [],
   "source": [
    "{-# LANGUAGE DeriveGeneric #-}\n",
    "\n",
    "import Data.Aeson\n",
    "import Data.Aeson.Types\n",
    "import Data.Time.Clock (UTCTime, diffUTCTime, utctDay)\n",
    "import Data.Time.Calendar\n",
    "import qualified Data.ByteString.Lazy as B\n",
    "import Data.Maybe (fromJust)\n",
    "import Options.Generic\n",
    "\n",
    "data Post = Post\n",
    "  { created_time :: UTCTime\n",
    "  , id           :: String\n",
    "  , message      :: Maybe String\n",
    "  , story        :: Maybe String\n",
    "  } deriving (Show, Generic)\n",
    "\n",
    "instance FromJSON Post\n",
    "instance ToJSON Post\n",
    "\n",
    "input <- B.readFile \"_+posts2017.json\""
   ]
  },
  {
   "cell_type": "markdown",
   "metadata": {
    "deletable": true,
    "editable": true
   },
   "source": [
    "We now have the `input` with the data read in from the JSON file and can proceed with parsing the values.\n",
    "\n",
    "\n",
    "### Parse JSON Data with Aeson\n",
    "\n",
    "**1. eitherDecode**\n",
    "\n",
    "Here's one way to parse the json, using `eitherDecode`, which captures the error message. The left side provides the error message, whereas the right contains the value. \n",
    "\n",
    "The snippet below saves the first timestampe into the variable `recent`"
   ]
  },
  {
   "cell_type": "code",
   "execution_count": null,
   "metadata": {
    "collapsed": false,
    "deletable": true,
    "editable": true
   },
   "outputs": [],
   "source": [
    "let x = eitherDecode input :: Either String [Post]\n",
    "recent <- case x of \n",
    "  Left err -> putStrLn err\n",
    "  Right value -> mapM_ print $ take 1 [ created_time x | x <- value ]\n",
    "\n",
    "{- Types\n",
    "putStrLn :: String -> IO ()\n",
    "print :: Show a => a -> IO ()\n",
    "mapM_ :: (Monad m, Foldable t) => (a -> m b) -> t a -> m ()\n",
    "Data.Text.take :: Int -> Text -> Text\n",
    "-}"
   ]
  },
  {
   "cell_type": "markdown",
   "metadata": {
    "deletable": true,
    "editable": true
   },
   "source": [
    "**2. decode**\n",
    "\n",
    "We can be further concise with the code since we can assume that the JSON formatting is predictable. We can assume this because I saved the data in the [python version of this project, in part 1](https://github.com/katychuang/ipython-notebooks/blob/master/facebook_posting_activity.ipynb) - instead use `decode` while assigning the data to a variable. It auto parses the list of JSON dictionaries into a list of Haskell data record types. "
   ]
  },
  {
   "cell_type": "code",
   "execution_count": 4,
   "metadata": {
    "collapsed": false,
    "deletable": true,
    "editable": true
   },
   "outputs": [],
   "source": [
    "let (Just y) = decode input :: Maybe [Post]"
   ]
  },
  {
   "cell_type": "markdown",
   "metadata": {},
   "source": [
    "Now that we have `y`, we can easily work with displaying the information in a number of ways.\n",
    "To show you how the data structure looks like, let's print out the created time field from the first item in the list. "
   ]
  },
  {
   "cell_type": "code",
   "execution_count": null,
   "metadata": {
    "collapsed": false
   },
   "outputs": [],
   "source": [
    "-- show most recent timestamp\n",
    "print $ created_time $ head y"
   ]
  },
  {
   "cell_type": "markdown",
   "metadata": {},
   "source": [
    "#### Timestamp field only"
   ]
  },
  {
   "cell_type": "markdown",
   "metadata": {
    "deletable": true,
    "editable": true
   },
   "source": [
    "You can follow the structure above to grab all the timestamps in a list."
   ]
  },
  {
   "cell_type": "code",
   "execution_count": null,
   "metadata": {
    "collapsed": false,
    "deletable": true,
    "editable": true
   },
   "outputs": [],
   "source": [
    "-- # Example showing listing and filters\n",
    "\n",
    "-- show all the timestamps\n",
    "print $ show (length y) ++ \" items in the file. Showing them all with map \"\n",
    "print (map created_time y) --same as: print $ map (\\post -> created_time post) y\n",
    "\n",
    "print $ show (length y) ++ \" items in the file. Showing them with utctDay and list comprehension \"\n",
    "print [ utctDay (created_time x) | x <- y ]"
   ]
  },
  {
   "cell_type": "markdown",
   "metadata": {},
   "source": [
    "### Filtering\n",
    "\n",
    "Now for some science! Let's filter the timestamps to get the records for March only."
   ]
  },
  {
   "cell_type": "code",
   "execution_count": 5,
   "metadata": {
    "collapsed": false
   },
   "outputs": [],
   "source": [
    "-- Practice filtering\n",
    "let m = [ created_time x | x <- y, (>=) (utctDay $ created_time x) (fromGregorian 2017 3 1) ]"
   ]
  },
  {
   "cell_type": "code",
   "execution_count": null,
   "metadata": {
    "collapsed": false
   },
   "outputs": [],
   "source": [
    "print $ show (length m) ++  \" items posted in March\" \n",
    "print m"
   ]
  },
  {
   "cell_type": "markdown",
   "metadata": {
    "deletable": true,
    "editable": true
   },
   "source": [
    "With `m` we're ready to replicate the process from the Python version of creating nested lists data structure. We're going to need the nested lists for the heatmap visualization later. This may not be the optimal approach to convert a list of timestamps to a nested list, but I'm new to Haskell so am just worrying about how to get this done for now.\n",
    "\n",
    "### Time with Haskell\n",
    "\n",
    "Now we are at a position to worry about how timestamps are interpreted by Haskell. \n",
    "\n",
    "We have a list, and can produce the week information as well as the day information based on each UTC string. The day of week information is the x of an (x,y) matrix; the week information is the y of an (x,y) matrix. "
   ]
  },
  {
   "cell_type": "code",
   "execution_count": 6,
   "metadata": {
    "collapsed": false,
    "deletable": true,
    "editable": true
   },
   "outputs": [
    {
     "data": {
      "text/plain": [
       "[\"12\",\"12\",\"12\",\"12\",\"11\",\"11\",\"11\",\"11\",\"11\",\"10\",\"10\",\"10\",\"10\",\"10\",\"10\",\"10\",\"10\",\"10\",\"09\",\"09\",\"09\"]"
      ]
     },
     "metadata": {},
     "output_type": "display_data"
    },
    {
     "data": {
      "text/plain": [
       "[\"Sun\",\"Sun\",\"Sun\",\"Sun\",\"Fri\",\"Thu\",\"Wed\",\"Sun\",\"Sun\",\"Sat\",\"Sat\",\"Fri\",\"Fri\",\"Fri\",\"Thu\",\"Thu\",\"Sun\",\"Sun\",\"Sat\",\"Thu\",\"Wed\"]"
      ]
     },
     "metadata": {},
     "output_type": "display_data"
    }
   ],
   "source": [
    "import Data.Time.Calendar.WeekDate\n",
    "import Data.Time.Format\n",
    "\n",
    "-- print week numbers of each\n",
    "print [ formatTime defaultTimeLocale \"%U\" x | x <- m]\n",
    "\n",
    "-- print the day of the week\n",
    "print [ formatTime defaultTimeLocale \"%a\" x | x <- m]\n"
   ]
  },
  {
   "cell_type": "markdown",
   "metadata": {
    "deletable": true,
    "editable": true
   },
   "source": [
    "Next step is to try making this more seamless into creating a nested list by incorporating the index of lists"
   ]
  },
  {
   "cell_type": "code",
   "execution_count": 6,
   "metadata": {
    "collapsed": false,
    "deletable": true,
    "editable": true
   },
   "outputs": [
    {
     "data": {
      "text/plain": [
       "[[\"12\",\"7\"],[\"12\",\"7\"],[\"12\",\"7\"],[\"12\",\"7\"],[\"11\",\"5\"],[\"11\",\"4\"],[\"11\",\"3\"],[\"11\",\"7\"],[\"11\",\"7\"],[\"10\",\"6\"],[\"10\",\"6\"],[\"10\",\"5\"],[\"10\",\"5\"],[\"10\",\"5\"],[\"10\",\"4\"],[\"10\",\"4\"],[\"10\",\"7\"],[\"10\",\"7\"],[\"09\",\"6\"],[\"09\",\"4\"],[\"09\",\"3\"]]"
      ]
     },
     "metadata": {},
     "output_type": "display_data"
    },
    {
     "data": {
      "text/plain": [
       "[[\"12\",\"7\"],[\"12\",\"7\"],[\"12\",\"7\"],[\"12\",\"7\"],[\"11\",\"5\"],[\"11\",\"4\"],[\"11\",\"3\"],[\"11\",\"7\"],[\"11\",\"7\"],[\"10\",\"6\"],[\"10\",\"6\"],[\"10\",\"5\"],[\"10\",\"5\"],[\"10\",\"5\"],[\"10\",\"4\"],[\"10\",\"4\"],[\"10\",\"7\"],[\"10\",\"7\"],[\"09\",\"6\"],[\"09\",\"4\"],[\"09\",\"3\"]]"
      ]
     },
     "metadata": {},
     "output_type": "display_data"
    }
   ],
   "source": [
    "march = [ created_time x | x <- y, (>=) (utctDay $ created_time x) (fromGregorian 2017 3 1) ]\n",
    "getXY u = [(formatTime defaultTimeLocale \"%U\" u), formatTime defaultTimeLocale \"%u\" u]\n",
    "print [ getXY x | x <- march]\n",
    "\n",
    "getX r = i - 9 where i = read $ (formatTime defaultTimeLocale \"%U\" r) :: Int\n",
    "getY r = read $ (formatTime defaultTimeLocale \"%U\" r) :: Int\n",
    "\n",
    "getXY' u = [getX u, getY u]\n",
    "coords = [ getXY x | x <- march]\n",
    "print coords"
   ]
  },
  {
   "cell_type": "markdown",
   "metadata": {},
   "source": [
    "## Setting up the data viz, data structures\n",
    "\n",
   ]
  },
  {
   "cell_type": "code",
   "execution_count": null,
   "metadata": {
    "collapsed": false
   },
   "outputs": [],
   "source": [
    "-- Create an empty array of lists 'month'\n",
    "week = take 7 (repeat 1)\n",
    "month = take 5 (repeat week)\n",
    "\n",
    "------------------------------------------------------------\n",
    "\n",
    "month"
   ]
  },
  {
   "cell_type": "markdown",
   "metadata": {},
   "source": [
    "What can we reason about this data structure so far? Here is a hint:\n",
    "\n",
    "```haskell\n",
    "-- Accessing items by index\n",
    "getWeek m j = m !! j -- returns a list\n",
    "getDay m w d = m !! w !! d -- returns a number value\n",
    "```\n"
   ]
  },
  {
   "cell_type": "code",
   "execution_count": null,
   "metadata": {
    "collapsed": false,
    "deletable": true,
    "editable": true
   },
   "outputs": [],
   "source": [
    "------------------------------------------------------------\n",
   ]
  },
  {
   "cell_type": "markdown",
   "metadata": {},
   "source": [
   ]
  },
  {
   "cell_type": "code",
   "execution_count": 22,
   "metadata": {
    "collapsed": false
   },
   "outputs": [
    {
     "data": {
      "text/plain": [
       "[1.0,1.0,1.0,0.9523809523809523,1.0,1.0,1.0]"
      ]
     },
     "metadata": {},
     "output_type": "display_data"
    }
   ],
   "source": [
    "-- Working with lists\n",
    "-- https://wiki.haskell.org/How_to_work_on_lists\n",
   ]
  },
  {
   "cell_type": "code",
   "execution_count": null,
   "metadata": {
    "collapsed": true
   },
   "outputs": [],
   "source": [
    "-- use foldr\n",
    "-- https://wiki.haskell.org/Foldable_Traversable_In_Prelude"
   ]
  },
  {
   "cell_type": "markdown",
   "metadata": {},
   "source": [
    "\n",
    "\n",
    "    where \n",
    "        s = d - 1\n",
    "        splice = splitAt s w\n",
    "        frt = fst splice\n",
    "        end = snd splice\n",
    "        norm = 1 / 21\n",
    "        e = (head end) - norm\n",
    "        \n",
    "-- show example of using mark\n",
    "mark week 4\n",
    "\n",
    "\n"
    "```"
   ]
  },
  {
   "cell_type": "markdown",
   "metadata": {},
   "source": [
    "## Plots.Types.HeatMap\n",
    "\n",
    "yay!"
   ]
  },
  {
   "cell_type": "code",
   "execution_count": 8,
   "metadata": {
    "collapsed": true,
    "deletable": true,
    "editable": true
   },
   "outputs": [],
   "source": [
    "import Plots.Axis  (Axis, r2Axis)\n",
    "import Plots.Axis.ColourBar (colourBar)\n",
    "import Plots.Axis.Render (renderAxis)\n",
    "import Plots.Axis.Scale (axisExtend, noExtend)\n",
    "import Plots.Style (axisColourMap, magma, greys)\n",
    "import Plots.Types (display)\n",
    "import Plots.Types.HeatMap\n",
    "\n",
    "import Control.Lens ((&~), (.=))\n",
    "import Diagrams.Backend.Cairo (B, Cairo)\n",
    "import Diagrams.TwoD.Types (V2)\n",
    "import Diagrams.Core.Types (QDiagram)\n",
    "import IHaskell.Display.Diagrams\n",
    "import IHaskell.Display.Juicypixels hiding (display)\n",
    "\n"
   ]
  },
  {
   "cell_type": "code",
   "execution_count": null,
   "metadata": {
    "collapsed": false,
    "deletable": true,
    "editable": true
   },
   "outputs": [],
   "source": [
    "heatMapAxis' :: Axis Cairo V2 Double\n",
    "heatMapAxis' = r2Axis &~ do\n",
    "  display colourBar\n",
    "  axisExtend Control.Lens..= noExtend\n",
    "  axisColourMap Control.Lens..= greys\n",
    "  let result = [[1..3], [3..1],[1..3]]\n",
    "  heatMap' result\n",
    "\n",
    "heatMapExample' = renderAxis heatMapAxis'\n",
    "diagram heatMapExample'"
   ]
  },
  {
   "cell_type": "code",
   "execution_count": null,
   "metadata": {
    "collapsed": false,
    "deletable": true,
    "editable": true
   },
   "outputs": [],
   "source": []
  },
  {
   "cell_type": "code",
   "execution_count": null,
   "metadata": {
    "collapsed": true,
    "deletable": true,
    "editable": true
   },
   "outputs": [],
   "source": []
  },
  {
   "cell_type": "markdown",
   "metadata": {
    "deletable": true,
    "editable": true
   },
   "source": []
  },
  {
   "cell_type": "code",
   "execution_count": null,
   "metadata": {
    "collapsed": true,
    "deletable": true,
    "editable": true
   },
   "outputs": [],
   "source": []
  }
 ],
 "metadata": {
  "kernelspec": {
   "display_name": "Haskell",
   "language": "haskell",
   "name": "haskell"
  },
  "language_info": {
   "codemirror_mode": "ihaskell",
   "file_extension": ".hs",
   "name": "haskell",
   "version": "8.0.2"
  }
 },
 "nbformat": 4,
 "nbformat_minor": 2
}
