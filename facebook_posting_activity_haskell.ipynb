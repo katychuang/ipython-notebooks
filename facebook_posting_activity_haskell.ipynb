{
 "cells": [
  {
   "cell_type": "markdown",
   "metadata": {
    "deletable": true,
    "editable": true
   },
   "source": [
    "# Reading JSON and Plotting with Haskell\n",
    "\n",
    "Author: Kat Chuang [@katychuang](http://twitter.com/katychuang) on Twitter\n",
    "\n",
    "## Objective\n",
    "\n",
    "The goal of this exercise is to parse JSON from the Facebook Graph Api using the Aeson library. \n",
    "\n",
    "I collected data from my most recent posts and previously saved json output from a [python version of this code](http://www.github.com/katychuang/ipython-notebooks/blob/master/facebook_posting_activity.ipynb) and saved it into a `file.json` \n",
    "\n",
    "---\n",
    "\n",
    "### Import data \n",
    "First import the modules we'll need for this exercise, and define the data record type to map the json fields to variables."
   ]
  },
  {
   "cell_type": "code",
   "execution_count": 1,
   "metadata": {
    "collapsed": false,
    "deletable": true,
    "editable": true
   },
   "outputs": [],
   "source": [
    "{-# LANGUAGE DeriveGeneric #-}\n",
    "\n",
    "import Data.Aeson\n",
    "import Data.Aeson.Types\n",
    "import Data.Time.Clock (UTCTime)\n",
    "import qualified Data.ByteString.Lazy as B\n",
    "import Options.Generic"
   ]
  },
  {
   "cell_type": "markdown",
   "metadata": {
    "deletable": true,
    "editable": true
   },
   "source": [
    "Define the record type for reading JSON. The fields correspond to JSON fields."
   ]
  },
  {
   "cell_type": "code",
   "execution_count": 2,
   "metadata": {
    "collapsed": true,
    "deletable": true,
    "editable": true
   },
   "outputs": [],
   "source": [
    "data Post = Post\n",
    "  { created_time :: UTCTime\n",
    "  , id           :: String\n",
    "  , message      :: Maybe String\n",
    "  , story        :: Maybe String\n",
    "  } deriving (Show, Generic)\n",
    "\n",
    "instance FromJSON Post\n",
    "instance ToJSON Post\n",
    "\n",
    "input <- B.readFile \"_+posts2017.json\""
   ]
  },
  {
   "cell_type": "markdown",
   "metadata": {
    "deletable": true,
    "editable": true
   },
   "source": [
    "We now have the `input` with the data read in from the JSON file and can proceed with parsing the values.\n",
    "\n",
    "\n",
    "### Parse JSON Data with Aeson\n",
    "\n",
    "**1. eitherDecode**\n",
    "\n",
    "Here's one way to parse the json, using `eitherDecode`, which captures the error message. The left side provides the error message, whereas the right contains the value. \n",
    "\n",
    "The types we're working with:\n",
    "\n",
    "```haskell\n",
    "putStrLn :: String -> IO ()\n",
    "print :: Show a => a -> IO ()\n",
    "mapM_ :: (Monad m, Foldable t) => (a -> m b) -> t a -> m ()\n",
    "Data.Text.take :: Int -> Text -> Text\n",
    "```\n",
    "\n",
    "The snippet below saves the first timestampe into the variable `recent`"
   ]
  },
  {
   "cell_type": "code",
   "execution_count": 3,
   "metadata": {
    "collapsed": false,
    "deletable": true,
    "editable": true
   },
   "outputs": [
    {
     "data": {
      "text/plain": [
       "2017-03-19 22:23:36 UTC"
      ]
     },
     "metadata": {},
     "output_type": "display_data"
    }
   ],
   "source": [
    "let myJSON = eitherDecode input :: Either String [Post]\n",
    "\n",
    "\n",
    "recent <- case myJSON of \n",
    "  Left err -> putStrLn err\n",
    "  Right value -> mapM_ print $ take 1 [ created_time x | x <- value ]"
   ]
  },
  {
   "cell_type": "markdown",
   "metadata": {
    "deletable": true,
    "editable": true
   },
   "source": [
    "**2. decode**\n",
    "\n",
    "We can be further concise with the code since we can assume that the JSON formatting is predictable. We can assume this because I saved the data in the [python version of this project, in part 1](https://github.com/katychuang/ipython-notebooks/blob/master/facebook_posting_activity.ipynb) - instead use `decode` while assigning the data to a variable. It auto parses the list of JSON dictionaries into a list of Haskell data record types. "
   ]
  },
  {
   "cell_type": "code",
   "execution_count": 4,
   "metadata": {
    "collapsed": false,
    "deletable": true,
    "editable": true
   },
   "outputs": [],
   "source": [
    "let (Just allData) = decode input :: Maybe [Post]"
   ]
  },
  {
   "cell_type": "markdown",
   "metadata": {
    "deletable": true,
    "editable": true
   },
   "source": [
    "Now that we have `theData` with the type `[Post]`, which is a list of `Post` elements, we can easily work with displaying the information in a number of ways.\n",
    "\n",
    "To demonstrate how the data structure looks like, let's print out the created time field from the first item in the list. "
   ]
  },
  {
   "cell_type": "code",
   "execution_count": 5,
   "metadata": {
    "collapsed": false,
    "deletable": true,
    "editable": true
   },
   "outputs": [
    {
     "data": {
      "text/plain": [
       "2017-03-19 22:23:36 UTC"
      ]
     },
     "metadata": {},
     "output_type": "display_data"
    }
   ],
   "source": [
    "-- show most recent timestamp\n",
    "print $ created_time $ head allData"
   ]
  },
  {
   "cell_type": "markdown",
   "metadata": {
    "deletable": true,
    "editable": true
   },
   "source": [
    "### Working with Time\n",
    "\n",
    "Now we are at a position to worry about how timestamps are interpreted by Haskell.\n",
    "\n",
    "To get an idea of activity per day, we need the timestamps. We can filter the `allData` to get a list of timestamps. You can follow the structure below to grab all the timestamps in a list, and let's try both map and list comprehension approaches."
   ]
  },
  {
   "cell_type": "markdown",
   "metadata": {
    "deletable": true,
    "editable": true
   },
   "source": [
    "**1. Using map**"
   ]
  },
  {
   "cell_type": "code",
   "execution_count": 6,
   "metadata": {
    "collapsed": false,
    "deletable": true,
    "editable": true
   },
   "outputs": [
    {
     "data": {
      "text/plain": [
       "\"46 items in the file. Showing them all with map \""
      ]
     },
     "metadata": {},
     "output_type": "display_data"
    },
    {
     "data": {
      "text/plain": [
       "[2017-03-19 22:23:36 UTC,2017-03-19 21:45:38 UTC,2017-03-19 21:24:07 UTC,2017-03-19 17:26:43 UTC,2017-03-17 19:57:17 UTC,2017-03-16 05:57:48 UTC,2017-03-15 19:06:26 UTC,2017-03-12 19:49:29 UTC,2017-03-12 05:35:42 UTC,2017-03-11 03:48:44 UTC,2017-03-11 02:05:14 UTC,2017-03-10 19:10:38 UTC,2017-03-10 06:24:15 UTC,2017-03-10 06:09:01 UTC,2017-03-09 20:45:35 UTC,2017-03-09 20:19:24 UTC,2017-03-05 14:02:33 UTC,2017-03-05 12:31:59 UTC,2017-03-04 20:30:23 UTC,2017-03-02 09:45:44 UTC,2017-03-01 05:24:02 UTC,2017-02-28 20:22:52 UTC,2017-02-22 03:01:11 UTC,2017-02-17 15:18:44 UTC,2017-02-11 17:00:00 UTC,2017-02-10 02:00:00 UTC,2017-02-09 20:32:37 UTC,2017-02-08 22:55:17 UTC,2017-02-05 22:47:10 UTC,2017-02-05 15:59:21 UTC,2017-02-04 12:43:57 UTC,2017-02-02 14:15:57 UTC,2017-02-02 13:49:41 UTC,2017-01-30 05:57:13 UTC,2017-01-30 05:40:25 UTC,2017-01-29 22:48:25 UTC,2017-01-27 17:00:00 UTC,2017-01-25 20:41:15 UTC,2017-01-25 19:16:11 UTC,2017-01-25 03:00:00 UTC,2017-01-24 22:47:41 UTC,2017-01-18 02:22:55 UTC,2017-01-17 01:00:00 UTC,2017-01-15 17:00:00 UTC,2017-01-07 16:01:59 UTC,2017-01-05 23:55:06 UTC]"
      ]
     },
     "metadata": {},
     "output_type": "display_data"
    }
   ],
   "source": [
    "-- show all the timestamps\n",
    "print $ show (length allData) ++ \" items in the file. Showing them all with map \"\n",
    "print (map created_time allData) --same as: print $ map (\\post -> created_time post) y"
   ]
  },
  {
   "cell_type": "markdown",
   "metadata": {
    "deletable": true,
    "editable": true
   },
   "source": [
    "** 2. Using List Comprehension**\n",
    "\n",
    "We can import the `utctDay` function from `Data.Time.Clock` to format the timestamps."
   ]
  },
  {
   "cell_type": "code",
   "execution_count": 7,
   "metadata": {
    "collapsed": false,
    "deletable": true,
    "editable": true
   },
   "outputs": [
    {
     "data": {
      "text/html": [
       "<style>/* Styles used for the Hoogle display in the pager */\n",
       ".hoogle-doc {\n",
       "display: block;\n",
       "padding-bottom: 1.3em;\n",
       "padding-left: 0.4em;\n",
       "}\n",
       ".hoogle-code {\n",
       "display: block;\n",
       "font-family: monospace;\n",
       "white-space: pre;\n",
       "}\n",
       ".hoogle-text {\n",
       "display: block;\n",
       "}\n",
       ".hoogle-name {\n",
       "color: green;\n",
       "font-weight: bold;\n",
       "}\n",
       ".hoogle-head {\n",
       "font-weight: bold;\n",
       "}\n",
       ".hoogle-sub {\n",
       "display: block;\n",
       "margin-left: 0.4em;\n",
       "}\n",
       ".hoogle-package {\n",
       "font-weight: bold;\n",
       "font-style: italic;\n",
       "}\n",
       ".hoogle-module {\n",
       "font-weight: bold;\n",
       "}\n",
       ".hoogle-class {\n",
       "font-weight: bold;\n",
       "}\n",
       ".get-type {\n",
       "color: green;\n",
       "font-weight: bold;\n",
       "font-family: monospace;\n",
       "display: block;\n",
       "white-space: pre-wrap;\n",
       "}\n",
       ".show-type {\n",
       "color: green;\n",
       "font-weight: bold;\n",
       "font-family: monospace;\n",
       "margin-left: 1em;\n",
       "}\n",
       ".mono {\n",
       "font-family: monospace;\n",
       "display: block;\n",
       "}\n",
       ".err-msg {\n",
       "color: red;\n",
       "font-style: italic;\n",
       "font-family: monospace;\n",
       "white-space: pre;\n",
       "display: block;\n",
       "}\n",
       "#unshowable {\n",
       "color: red;\n",
       "font-weight: bold;\n",
       "}\n",
       ".err-msg.in.collapse {\n",
       "padding-top: 0.7em;\n",
       "}\n",
       ".highlight-code {\n",
       "white-space: pre;\n",
       "font-family: monospace;\n",
       "}\n",
       ".suggestion-warning { \n",
       "font-weight: bold;\n",
       "color: rgb(200, 130, 0);\n",
       "}\n",
       ".suggestion-error { \n",
       "font-weight: bold;\n",
       "color: red;\n",
       "}\n",
       ".suggestion-name {\n",
       "font-weight: bold;\n",
       "}\n",
       "</style><span class='get-type'>utctDay :: UTCTime -> Day</span>"
      ],
      "text/plain": [
       "utctDay :: UTCTime -> Day"
      ]
     },
     "metadata": {},
     "output_type": "display_data"
    }
   ],
   "source": [
    "import Data.Time.Clock (utctDay)\n",
    ":t utctDay"
   ]
  },
  {
   "cell_type": "code",
   "execution_count": 8,
   "metadata": {
    "collapsed": false,
    "deletable": true,
    "editable": true
   },
   "outputs": [
    {
     "data": {
      "text/plain": [
       "\"46 items in the file. Showing them with utctDay and list comprehension \""
      ]
     },
     "metadata": {},
     "output_type": "display_data"
    },
    {
     "data": {
      "text/plain": [
       "[2017-03-19,2017-03-19,2017-03-19,2017-03-19,2017-03-17,2017-03-16,2017-03-15,2017-03-12,2017-03-12,2017-03-11,2017-03-11,2017-03-10,2017-03-10,2017-03-10,2017-03-09,2017-03-09,2017-03-05,2017-03-05,2017-03-04,2017-03-02,2017-03-01,2017-02-28,2017-02-22,2017-02-17,2017-02-11,2017-02-10,2017-02-09,2017-02-08,2017-02-05,2017-02-05,2017-02-04,2017-02-02,2017-02-02,2017-01-30,2017-01-30,2017-01-29,2017-01-27,2017-01-25,2017-01-25,2017-01-25,2017-01-24,2017-01-18,2017-01-17,2017-01-15,2017-01-07,2017-01-05]"
      ]
     },
     "metadata": {},
     "output_type": "display_data"
    }
   ],
   "source": [
    "print $ show (length allData) ++ \" items in the file. Showing them with utctDay and list comprehension \"\n",
    "print [ utctDay (created_time x) | x <- allData ]"
   ]
  },
  {
   "cell_type": "markdown",
   "metadata": {
    "deletable": true,
    "editable": true
   },
   "source": [
    "We can also look at the time diff from today as well if we were interested in relative time."
   ]
  },
  {
   "cell_type": "code",
   "execution_count": 9,
   "metadata": {
    "collapsed": false,
    "deletable": true,
    "editable": true
   },
   "outputs": [
    {
     "data": {
      "text/html": [
       "<style>/* Styles used for the Hoogle display in the pager */\n",
       ".hoogle-doc {\n",
       "display: block;\n",
       "padding-bottom: 1.3em;\n",
       "padding-left: 0.4em;\n",
       "}\n",
       ".hoogle-code {\n",
       "display: block;\n",
       "font-family: monospace;\n",
       "white-space: pre;\n",
       "}\n",
       ".hoogle-text {\n",
       "display: block;\n",
       "}\n",
       ".hoogle-name {\n",
       "color: green;\n",
       "font-weight: bold;\n",
       "}\n",
       ".hoogle-head {\n",
       "font-weight: bold;\n",
       "}\n",
       ".hoogle-sub {\n",
       "display: block;\n",
       "margin-left: 0.4em;\n",
       "}\n",
       ".hoogle-package {\n",
       "font-weight: bold;\n",
       "font-style: italic;\n",
       "}\n",
       ".hoogle-module {\n",
       "font-weight: bold;\n",
       "}\n",
       ".hoogle-class {\n",
       "font-weight: bold;\n",
       "}\n",
       ".get-type {\n",
       "color: green;\n",
       "font-weight: bold;\n",
       "font-family: monospace;\n",
       "display: block;\n",
       "white-space: pre-wrap;\n",
       "}\n",
       ".show-type {\n",
       "color: green;\n",
       "font-weight: bold;\n",
       "font-family: monospace;\n",
       "margin-left: 1em;\n",
       "}\n",
       ".mono {\n",
       "font-family: monospace;\n",
       "display: block;\n",
       "}\n",
       ".err-msg {\n",
       "color: red;\n",
       "font-style: italic;\n",
       "font-family: monospace;\n",
       "white-space: pre;\n",
       "display: block;\n",
       "}\n",
       "#unshowable {\n",
       "color: red;\n",
       "font-weight: bold;\n",
       "}\n",
       ".err-msg.in.collapse {\n",
       "padding-top: 0.7em;\n",
       "}\n",
       ".highlight-code {\n",
       "white-space: pre;\n",
       "font-family: monospace;\n",
       "}\n",
       ".suggestion-warning { \n",
       "font-weight: bold;\n",
       "color: rgb(200, 130, 0);\n",
       "}\n",
       ".suggestion-error { \n",
       "font-weight: bold;\n",
       "color: red;\n",
       "}\n",
       ".suggestion-name {\n",
       "font-weight: bold;\n",
       "}\n",
       "</style><span class='get-type'>diffUTCTime :: UTCTime -> UTCTime -> NominalDiffTime</span>"
      ],
      "text/plain": [
       "diffUTCTime :: UTCTime -> UTCTime -> NominalDiffTime"
      ]
     },
     "metadata": {},
     "output_type": "display_data"
    },
    {
     "data": {
      "text/html": [
       "<style>/* Styles used for the Hoogle display in the pager */\n",
       ".hoogle-doc {\n",
       "display: block;\n",
       "padding-bottom: 1.3em;\n",
       "padding-left: 0.4em;\n",
       "}\n",
       ".hoogle-code {\n",
       "display: block;\n",
       "font-family: monospace;\n",
       "white-space: pre;\n",
       "}\n",
       ".hoogle-text {\n",
       "display: block;\n",
       "}\n",
       ".hoogle-name {\n",
       "color: green;\n",
       "font-weight: bold;\n",
       "}\n",
       ".hoogle-head {\n",
       "font-weight: bold;\n",
       "}\n",
       ".hoogle-sub {\n",
       "display: block;\n",
       "margin-left: 0.4em;\n",
       "}\n",
       ".hoogle-package {\n",
       "font-weight: bold;\n",
       "font-style: italic;\n",
       "}\n",
       ".hoogle-module {\n",
       "font-weight: bold;\n",
       "}\n",
       ".hoogle-class {\n",
       "font-weight: bold;\n",
       "}\n",
       ".get-type {\n",
       "color: green;\n",
       "font-weight: bold;\n",
       "font-family: monospace;\n",
       "display: block;\n",
       "white-space: pre-wrap;\n",
       "}\n",
       ".show-type {\n",
       "color: green;\n",
       "font-weight: bold;\n",
       "font-family: monospace;\n",
       "margin-left: 1em;\n",
       "}\n",
       ".mono {\n",
       "font-family: monospace;\n",
       "display: block;\n",
       "}\n",
       ".err-msg {\n",
       "color: red;\n",
       "font-style: italic;\n",
       "font-family: monospace;\n",
       "white-space: pre;\n",
       "display: block;\n",
       "}\n",
       "#unshowable {\n",
       "color: red;\n",
       "font-weight: bold;\n",
       "}\n",
       ".err-msg.in.collapse {\n",
       "padding-top: 0.7em;\n",
       "}\n",
       ".highlight-code {\n",
       "white-space: pre;\n",
       "font-family: monospace;\n",
       "}\n",
       ".suggestion-warning { \n",
       "font-weight: bold;\n",
       "color: rgb(200, 130, 0);\n",
       "}\n",
       ".suggestion-error { \n",
       "font-weight: bold;\n",
       "color: red;\n",
       "}\n",
       ".suggestion-name {\n",
       "font-weight: bold;\n",
       "}\n",
       "</style><span class='get-type'>marchEnd :: Day</span>"
      ],
      "text/plain": [
       "marchEnd :: Day"
      ]
     },
     "metadata": {},
     "output_type": "display_data"
    }
   ],
   "source": [
    "import Data.Time.Clock (diffUTCTime, UTCTime)\n",
    ":t diffUTCTime\n",
    "\n",
    "\n",
    "import Data.Time.Calendar (fromGregorian)\n",
    "let marchEnd = fromGregorian 2017 03 31\n",
    ":t marchEnd"
   ]
  },
  {
   "cell_type": "markdown",
   "metadata": {},
   "source": [
    "**diffDays**"
   ]
  },
  {
   "cell_type": "code",
   "execution_count": 10,
   "metadata": {
    "collapsed": false,
    "deletable": true,
    "editable": true
   },
   "outputs": [
    {
     "data": {
      "text/plain": [
       "[12,12,12,12,14,15,16,19,19,20,20,21,21,21,22,22,26,26,27,29,30,31,37,42,48,49,50,51,54,54,55,57,57,60,60,61,63,65,65,65,66,72,73,75,83,85]"
      ]
     },
     "metadata": {},
     "output_type": "display_data"
    }
   ],
   "source": [
    "import Data.Time.Calendar (diffDays)\n",
    "print [ diffDays marchEnd (utctDay $ created_time x) | x <- allData ]"
   ]
  },
  {
   "cell_type": "code",
   "execution_count": 11,
   "metadata": {
    "collapsed": false
   },
   "outputs": [
    {
     "data": {
      "text/plain": [
       "\"2017-03-19 22:23:36 UTC = 12 days ago\"\n",
       "\"2017-03-19 21:45:38 UTC = 12 days ago\"\n",
       "\"2017-03-19 21:24:07 UTC = 12 days ago\"\n",
       "\"2017-03-19 17:26:43 UTC = 12 days ago\"\n",
       "\"2017-03-17 19:57:17 UTC = 14 days ago\""
      ]
     },
     "metadata": {},
     "output_type": "display_data"
    }
   ],
   "source": [
    "daysAgo x = timestamp ++ show (delta x) ++ \" days ago\"\n",
    "    where \n",
    "        timestamp = show (created_time x) ++ \" = \" \n",
    "        postDate p = utctDay $ created_time p\n",
    "        delta x = diffDays marchEnd (postDate x)\n",
    "    \n",
    "mapM_ print $ take 5 [ daysAgo x | x <- allData ]"
   ]
  },
  {
   "cell_type": "markdown",
   "metadata": {},
   "source": [
    "**NominalDiffTime**"
   ]
  },
  {
   "cell_type": "code",
   "execution_count": 12,
   "metadata": {
    "collapsed": false
   },
   "outputs": [
    {
     "data": {
      "text/plain": [
       "[1042583s,1044861s,1046152s,1060396s,1224162s,1360931s,1400013s,1656630s,1707857s,1800675s,1806885s,1831761s,1877744s,1878658s,1912464s,1914035s,2282246s,2287680s,2345376s,2556855s,2658957s,2691427s,3272328s,3660075s,4172399s,4312799s,4332442s,4410282s,4669969s,4694438s,4792562s,4959842s,4961418s,5248966s,5249974s,5274694s,5468399s,5627924s,5633028s,5691599s,5706738s,6298624s,6389999s,6505199s,7199880s,7344293s]"
      ]
     },
     "metadata": {},
     "output_type": "display_data"
    }
   ],
   "source": [
    "let marchEndUTC = read \"2017-03-31 23:59:59 UTC\" :: UTCTime\n",
    "print [ marchEndUTC `diffUTCTime` created_time x | x <- allData ]"
   ]
  },
  {
   "cell_type": "markdown",
   "metadata": {
    "deletable": true,
    "editable": true
   },
   "source": [
    "### Filtering\n",
    "\n",
    "Now for some science! Let's filter the timestamps to get the records for March only. That is the sample we'd want to use for creating the chart."
   ]
  },
  {
   "cell_type": "code",
   "execution_count": 13,
   "metadata": {
    "collapsed": false,
    "deletable": true,
    "editable": true
   },
   "outputs": [],
   "source": [
    "-- Practice filtering\n",
    "let m = [ created_time x | x <- allData, (>=) (utctDay $ created_time x) (fromGregorian 2017 3 1) ]"
   ]
  },
  {
   "cell_type": "code",
   "execution_count": 14,
   "metadata": {
    "collapsed": false,
    "deletable": true,
    "editable": true
   },
   "outputs": [
    {
     "data": {
      "text/plain": [
       "\"21 items posted in March\""
      ]
     },
     "metadata": {},
     "output_type": "display_data"
    },
    {
     "data": {
      "text/plain": [
       "[2017-03-19 22:23:36 UTC,2017-03-19 21:45:38 UTC,2017-03-19 21:24:07 UTC,2017-03-19 17:26:43 UTC,2017-03-17 19:57:17 UTC,2017-03-16 05:57:48 UTC,2017-03-15 19:06:26 UTC,2017-03-12 19:49:29 UTC,2017-03-12 05:35:42 UTC,2017-03-11 03:48:44 UTC,2017-03-11 02:05:14 UTC,2017-03-10 19:10:38 UTC,2017-03-10 06:24:15 UTC,2017-03-10 06:09:01 UTC,2017-03-09 20:45:35 UTC,2017-03-09 20:19:24 UTC,2017-03-05 14:02:33 UTC,2017-03-05 12:31:59 UTC,2017-03-04 20:30:23 UTC,2017-03-02 09:45:44 UTC,2017-03-01 05:24:02 UTC]"
      ]
     },
     "metadata": {},
     "output_type": "display_data"
    }
   ],
   "source": [
    "print $ show (length m) ++  \" items posted in March\" \n",
    "print m"
   ]
  },
  {
   "cell_type": "markdown",
   "metadata": {
    "deletable": true,
    "editable": true
   },
   "source": [
    "With `m` we're ready to replicate the process from the Python version of creating nested lists data structure. We're going to need the nested lists for the heatmap visualization later. This may not be the optimal approach to convert a list of timestamps to a nested list, but I'm new to Haskell so am just worrying about how to get this done for now.\n",
    "\n",
    "### Days of the week\n",
    "\n",
    "Let's be fancy and see how to make timestamps more readable as days of the week. \n",
    "\n",
    "We have a list, and can produce the week information as well as the day information based on each UTC string. The day of week information is the x of an (x,y) matrix; the week information is the y of an (x,y) matrix. "
   ]
  },
  {
   "cell_type": "code",
   "execution_count": 15,
   "metadata": {
    "collapsed": false,
    "deletable": true,
    "editable": true
   },
   "outputs": [
    {
     "data": {
      "text/plain": [
       "[\"12\",\"12\",\"12\",\"12\",\"11\",\"11\",\"11\",\"11\",\"11\",\"10\",\"10\",\"10\",\"10\",\"10\",\"10\",\"10\",\"10\",\"10\",\"09\",\"09\",\"09\"]"
      ]
     },
     "metadata": {},
     "output_type": "display_data"
    },
    {
     "data": {
      "text/plain": [
       "[\"Sun\",\"Sun\",\"Sun\",\"Sun\",\"Fri\",\"Thu\",\"Wed\",\"Sun\",\"Sun\",\"Sat\",\"Sat\",\"Fri\",\"Fri\",\"Fri\",\"Thu\",\"Thu\",\"Sun\",\"Sun\",\"Sat\",\"Thu\",\"Wed\"]"
      ]
     },
     "metadata": {},
     "output_type": "display_data"
    }
   ],
   "source": [
    "import Data.Time.Calendar.WeekDate\n",
    "import Data.Time.Format\n",
    "\n",
    "-- print week numbers of each\n",
    "print [ formatTime defaultTimeLocale \"%U\" x | x <- m]\n",
    "\n",
    "-- print the day of the week\n",
    "print [ formatTime defaultTimeLocale \"%a\" x | x <- m]\n"
   ]
  },
  {
   "cell_type": "markdown",
   "metadata": {
    "deletable": true,
    "editable": true
   },
   "source": [
    "** Turning an element into a tuple/list **\n",
    "\n",
    "Next step is to try making this more seamless into creating a nested list by incorporating the index of lists"
   ]
  },
  {
   "cell_type": "code",
   "execution_count": 16,
   "metadata": {
    "collapsed": false,
    "deletable": true,
    "editable": true
   },
   "outputs": [
    {
     "data": {
      "text/plain": [
       "[[\"12\",\"7\"],[\"12\",\"7\"],[\"12\",\"7\"],[\"12\",\"7\"],[\"11\",\"5\"],[\"11\",\"4\"],[\"11\",\"3\"],[\"11\",\"7\"],[\"11\",\"7\"],[\"10\",\"6\"],[\"10\",\"6\"],[\"10\",\"5\"],[\"10\",\"5\"],[\"10\",\"5\"],[\"10\",\"4\"],[\"10\",\"4\"],[\"10\",\"7\"],[\"10\",\"7\"],[\"09\",\"6\"],[\"09\",\"4\"],[\"09\",\"3\"]]"
      ]
     },
     "metadata": {},
     "output_type": "display_data"
    },
    {
     "data": {
      "text/plain": [
       "[[\"12\",\"7\"],[\"12\",\"7\"],[\"12\",\"7\"],[\"12\",\"7\"],[\"11\",\"5\"],[\"11\",\"4\"],[\"11\",\"3\"],[\"11\",\"7\"],[\"11\",\"7\"],[\"10\",\"6\"],[\"10\",\"6\"],[\"10\",\"5\"],[\"10\",\"5\"],[\"10\",\"5\"],[\"10\",\"4\"],[\"10\",\"4\"],[\"10\",\"7\"],[\"10\",\"7\"],[\"09\",\"6\"],[\"09\",\"4\"],[\"09\",\"3\"]]"
      ]
     },
     "metadata": {},
     "output_type": "display_data"
    }
   ],
   "source": [
    "march = [ created_time x | x <- allData, (>=) (utctDay $ created_time x) (fromGregorian 2017 3 1) ]\n",
    "getXY u = [(formatTime defaultTimeLocale \"%U\" u), formatTime defaultTimeLocale \"%u\" u]\n",
    "print [ getXY x | x <- march]\n",
    "\n",
    "getX r = i - 9 where i = read $ (formatTime defaultTimeLocale \"%U\" r) :: Int\n",
    "getY r = read $ (formatTime defaultTimeLocale \"%U\" r) :: Int\n",
    "\n",
    "getXY' u = [getX u, getY u]\n",
    "coords = [ getXY x | x <- march]\n",
    "print coords"
   ]
  },
  {
   "cell_type": "markdown",
   "metadata": {
    "deletable": true,
    "editable": true
   },
   "source": [
    "## Setting up the data viz, data structures\n",
    "\n",
    "**1. Working backwards**"
   ]
  },
  {
   "cell_type": "code",
   "execution_count": 17,
   "metadata": {
    "collapsed": false,
    "deletable": true,
    "editable": true
   },
   "outputs": [
    {
     "data": {
      "text/plain": [
       "[[1,1,1,1,1,1,1],[1,1,1,1,1,1,1],[1,1,1,1,1,1,1],[1,1,1,1,1,1,1],[1,1,1,1,1,1,1]]"
      ]
     },
     "metadata": {},
     "output_type": "display_data"
    }
   ],
   "source": [
    "-- Create an empty array of lists 'month'\n",
    "week = take 7 (repeat 1)\n",
    "month = take 5 (repeat week)\n",
    "\n",
    "------------------------------------------------------------\n",
    "\n",
    "month"
   ]
  },
  {
   "cell_type": "markdown",
   "metadata": {
    "deletable": true,
    "editable": true
   },
   "source": [
    "What can we reason about this data structure so far? Here is a hint:\n",
    "\n",
    "```haskell\n",
    "-- Accessing items by index\n",
    "getWeek m j = m !! j -- returns a list\n",
    "getDay m w d = m !! w !! d -- returns a number value\n",
    "```\n"
   ]
  },
  {
   "cell_type": "markdown",
   "metadata": {},
   "source": [
    "When a day is marked, we want to change the value in that day of the week. So we have the function mark, that marks a week."
   ]
  },
  {
   "cell_type": "code",
   "execution_count": 18,
   "metadata": {
    "collapsed": false,
    "deletable": true,
    "editable": true
   },
   "outputs": [
    {
     "data": {
      "text/plain": [
       "[1.0,1.0,1.0,0.9523809523809523,1.0,1.0,1.0]"
      ]
     },
     "metadata": {},
     "output_type": "display_data"
    }
   ],
   "source": [
    "------------------------------------------------------------\n",
    "\n",
    "-- Takes a list and an index, edits element at index\n",
    "mark w d = frt ++ (e: tail end)\n",
    "    where \n",
    "        s = d - 1                 -- getting the index to work with. index starts at 0. days of week starts at 1.\n",
    "        splice = splitAt s w\n",
    "        frt = fst splice          -- before the indexed element\n",
    "        end = snd splice          -- after the indexed element\n",
    "        norm = 1 / 21             -- hardwire the max number for now\n",
    "        e = head end - norm     -- new element to replace old one\n",
    "        \n",
    "-- show example of using mark\n",
    "mark week 4"
   ]
  },
  {
   "cell_type": "code",
   "execution_count": 19,
   "metadata": {
    "collapsed": false,
    "deletable": true,
    "editable": true
   },
   "outputs": [
    {
     "data": {
      "text/plain": [
       "[[1.0,1.0,1.0,1.0,1.0,1.0,0.9523809523809523],[1.0,1.0,1.0,1.0,1.0,1.0,0.9523809523809523],[1.0,1.0,1.0,1.0,1.0,1.0,0.9523809523809523],[1.0,1.0,1.0,1.0,1.0,1.0,0.9523809523809523],[1.0,1.0,1.0,1.0,0.9523809523809523,1.0,1.0],[1.0,1.0,1.0,0.9523809523809523,1.0,1.0,1.0],[1.0,1.0,0.9523809523809523,1.0,1.0,1.0,1.0],[1.0,1.0,1.0,1.0,1.0,1.0,0.9523809523809523],[1.0,1.0,1.0,1.0,1.0,1.0,0.9523809523809523],[1.0,1.0,1.0,1.0,1.0,0.9523809523809523,1.0],[1.0,1.0,1.0,1.0,1.0,0.9523809523809523,1.0],[1.0,1.0,1.0,1.0,0.9523809523809523,1.0,1.0],[1.0,1.0,1.0,1.0,0.9523809523809523,1.0,1.0],[1.0,1.0,1.0,1.0,0.9523809523809523,1.0,1.0],[1.0,1.0,1.0,0.9523809523809523,1.0,1.0,1.0],[1.0,1.0,1.0,0.9523809523809523,1.0,1.0,1.0],[1.0,1.0,1.0,1.0,1.0,1.0,0.9523809523809523],[1.0,1.0,1.0,1.0,1.0,1.0,0.9523809523809523],[1.0,1.0,1.0,1.0,1.0,0.9523809523809523,1.0],[1.0,1.0,1.0,0.9523809523809523,1.0,1.0,1.0],[1.0,1.0,0.9523809523809523,1.0,1.0,1.0,1.0]]"
      ]
     },
     "metadata": {},
     "output_type": "display_data"
    }
   ],
   "source": [
    "-- try a combination of using pair on mark\n",
    "-- how can I return the month?\n",
    "myfunction1 (w,d) =  mark thisWeek dayIndex\n",
    "    where\n",
    "        thisWeek = month !! weekIndex\n",
    "        weekIndex = (read w :: Int ) - 9\n",
    "        dayIndex = read d :: Int\n",
    "\n",
    "[ myfunction1 (w,d) | [w,d] <- coords]"
   ]
  },
  {
   "cell_type": "markdown",
   "metadata": {
    "deletable": true,
    "editable": true
   },
   "source": [
    "That sort of works, but we don't want to have a resulting list of 21 lists, instead we want to group the output so that we have 5 weeks left.\n",
    "\n",
    "Let's try another way that creates a key that enables an capability to group lists based on the week 1 thru 5, then we can use reduction principle.\n",
    "\n",
    "**2. Reduction**\n"
   ]
  },
  {
   "cell_type": "code",
   "execution_count": 20,
   "metadata": {
    "collapsed": false,
    "deletable": true,
    "editable": true
   },
   "outputs": [
    {
     "data": {
      "text/plain": [
       "(3,[0.0,0.0,0.0,0.0,0.0,0.0,4.7619047619047616e-2])\n",
       "(3,[0.0,0.0,0.0,0.0,0.0,0.0,4.7619047619047616e-2])\n",
       "(3,[0.0,0.0,0.0,0.0,0.0,0.0,4.7619047619047616e-2])\n",
       "(3,[0.0,0.0,0.0,0.0,0.0,0.0,4.7619047619047616e-2])\n",
       "(2,[0.0,0.0,0.0,0.0,4.7619047619047616e-2,0.0])\n",
       "(2,[0.0,0.0,0.0,4.7619047619047616e-2,0.0,0.0])\n",
       "(2,[0.0,0.0,4.7619047619047616e-2,0.0,0.0,0.0])\n",
       "(2,[0.0,0.0,0.0,0.0,0.0,0.0,4.7619047619047616e-2])\n",
       "(2,[0.0,0.0,0.0,0.0,0.0,0.0,4.7619047619047616e-2])\n",
       "(1,[0.0,0.0,0.0,0.0,0.0,4.7619047619047616e-2])\n",
       "(1,[0.0,0.0,0.0,0.0,0.0,4.7619047619047616e-2])\n",
       "(1,[0.0,0.0,0.0,0.0,4.7619047619047616e-2,0.0])\n",
       "(1,[0.0,0.0,0.0,0.0,4.7619047619047616e-2,0.0])\n",
       "(1,[0.0,0.0,0.0,0.0,4.7619047619047616e-2,0.0])\n",
       "(1,[0.0,0.0,0.0,4.7619047619047616e-2,0.0,0.0])\n",
       "(1,[0.0,0.0,0.0,4.7619047619047616e-2,0.0,0.0])\n",
       "(1,[0.0,0.0,0.0,0.0,0.0,0.0,4.7619047619047616e-2])\n",
       "(1,[0.0,0.0,0.0,0.0,0.0,0.0,4.7619047619047616e-2])\n",
       "(0,[0.0,0.0,0.0,0.0,0.0,4.7619047619047616e-2])\n",
       "(0,[0.0,0.0,0.0,4.7619047619047616e-2,0.0,0.0])\n",
       "(0,[0.0,0.0,4.7619047619047616e-2,0.0,0.0,0.0])"
      ]
     },
     "metadata": {},
     "output_type": "display_data"
    }
   ],
   "source": [
    "-- Working with lists\n",
    "-- https://wiki.haskell.org/How_to_work_on_lists\n",
    "mm i = xs ++ [norm] ++ ys\n",
    "    where \n",
    "        xs = replicate (i-1) 0    -- if i = 2; x = 1, y = 5\n",
    "        ys = replicate (6-i) 0    \n",
    "        norm = 1 / 21             -- hardwire the max number for now\n",
    "        e = 0.1                   -- new element to replace old one\n",
    "\n",
    "-- get a list of key + week\n",
    "getMM r = (i, mm y)\n",
    "    where\n",
    "        y = read (formatTime defaultTimeLocale \"%u\" r) :: Int\n",
    "        i = (read (formatTime defaultTimeLocale \"%U\" r) :: Int) - 9\n",
    "\n",
    "mapM_ print [ getMM x | x <- march]"
   ]
  },
  {
   "cell_type": "markdown",
   "metadata": {},
   "source": [
    "Now we have the first element of the tuple that acts as a key from which we can sort and group!\n",
    "\n",
    "Below I found a function [on stackoverflow: How to group similar items in a list using Haskell?](http://stackoverflow.com/questions/12398458/how-to-group-similar-items-in-a-list-using-haskell) to group.. and let's borrow it to see what happens."
   ]
  },
  {
   "cell_type": "code",
   "execution_count": 21,
   "metadata": {
    "collapsed": true,
    "deletable": true,
    "editable": true
   },
   "outputs": [],
   "source": [
    "import Data.Map\n",
    "sortAndGroup assocs = toList $ fromListWith (++) [(k, [v]) | (k, v) <- assocs]"
   ]
  },
  {
   "cell_type": "markdown",
   "metadata": {
    "deletable": true,
    "editable": true
   },
   "source": [
    "oh yeah, we have to apply `sortAndGroup` on the March posts....."
   ]
  },
  {
   "cell_type": "code",
   "execution_count": 22,
   "metadata": {
    "collapsed": false,
    "deletable": true,
    "editable": true
   },
   "outputs": [
    {
     "data": {
      "text/plain": [
       "(0,[[0.0,0.0,4.7619047619047616e-2,0.0,0.0,0.0],[0.0,0.0,0.0,4.7619047619047616e-2,0.0,0.0],[0.0,0.0,0.0,0.0,0.0,4.7619047619047616e-2]])\n",
       "(1,[[0.0,0.0,0.0,0.0,0.0,0.0,4.7619047619047616e-2],[0.0,0.0,0.0,0.0,0.0,0.0,4.7619047619047616e-2],[0.0,0.0,0.0,4.7619047619047616e-2,0.0,0.0],[0.0,0.0,0.0,4.7619047619047616e-2,0.0,0.0],[0.0,0.0,0.0,0.0,4.7619047619047616e-2,0.0],[0.0,0.0,0.0,0.0,4.7619047619047616e-2,0.0],[0.0,0.0,0.0,0.0,4.7619047619047616e-2,0.0],[0.0,0.0,0.0,0.0,0.0,4.7619047619047616e-2],[0.0,0.0,0.0,0.0,0.0,4.7619047619047616e-2]])\n",
       "(2,[[0.0,0.0,0.0,0.0,0.0,0.0,4.7619047619047616e-2],[0.0,0.0,0.0,0.0,0.0,0.0,4.7619047619047616e-2],[0.0,0.0,4.7619047619047616e-2,0.0,0.0,0.0],[0.0,0.0,0.0,4.7619047619047616e-2,0.0,0.0],[0.0,0.0,0.0,0.0,4.7619047619047616e-2,0.0]])\n",
       "(3,[[0.0,0.0,0.0,0.0,0.0,0.0,4.7619047619047616e-2],[0.0,0.0,0.0,0.0,0.0,0.0,4.7619047619047616e-2],[0.0,0.0,0.0,0.0,0.0,0.0,4.7619047619047616e-2],[0.0,0.0,0.0,0.0,0.0,0.0,4.7619047619047616e-2]])"
      ]
     },
     "metadata": {},
     "output_type": "display_data"
    }
   ],
   "source": [
    "sample = sortAndGroup [ getMM x | x <- march]\n",
    "\n",
    "mapM_ print sample"
   ]
  },
  {
   "cell_type": "markdown",
   "metadata": {
    "collapsed": false,
    "deletable": true,
    "editable": true
   },
   "source": [
    "Getting closer, we have three weeks for the 3 active weeks in March. Let's combine the lists for each week to get the resulting list of active days.... to do this I found another example [on stackoverflow: Sum a list of lists?](http://stackoverflow.com/questions/9538584/sum-a-list-of-lists)\n",
    "\n",
    "It takes a list of lists, transposes the columns to rows so that you can use the sum function. \n"
   ]
  },
  {
   "cell_type": "code",
   "execution_count": 23,
   "metadata": {
    "collapsed": false,
    "deletable": true,
    "editable": true
   },
   "outputs": [
    {
     "data": {
      "text/plain": [
       "[0.0,0.0,4.7619047619047616e-2,4.7619047619047616e-2,0.0,4.7619047619047616e-2]"
      ]
     },
     "metadata": {},
     "output_type": "display_data"
    }
   ],
   "source": [
    "-- \n",
    "import Data.List\n",
    "week = replicate 7 1\n",
    "reduction input = Prelude.map sum . transpose $ (input)\n",
    "\n",
    "-- try the first one: \n",
    "reduction $ snd (head sample)"
   ]
  },
  {
   "cell_type": "code",
   "execution_count": 24,
   "metadata": {
    "collapsed": false
   },
   "outputs": [
    {
     "data": {
      "text/plain": [
       "[1.0,1.0,0.9523809523809523,0.9523809523809523,1.0,0.9523809523809523]\n",
       "[1.0,1.0,1.0,0.9047619047619048,0.8571428571428572,0.9047619047619048,0.9047619047619048]\n",
       "[1.0,1.0,0.9523809523809523,0.9523809523809523,0.9523809523809523,1.0,0.9047619047619048]\n",
       "[1.0,1.0,1.0,1.0,1.0,1.0,0.8095238095238095]"
      ]
     },
     "metadata": {},
     "output_type": "display_data"
    }
   ],
   "source": [
    "-- http://stackoverflow.com/questions/23660295/how-to-map-a-function-on-the-elements-of-a-nested-list\n",
    "tryAgain = [ [ 1- e | e <- reduction $ snd weekly] | weekly <- sample]\n",
    "\n",
    "mapM_ print tryAgain"
   ]
  },
  {
   "cell_type": "markdown",
   "metadata": {},
   "source": [
    "At this point, I don't know if the values are correct but at least the data type is correct for drawing the chart. We'll come back later to fix this."
   ]
  },
  {
   "cell_type": "markdown",
   "metadata": {
    "deletable": true,
    "editable": true
   },
   "source": [
    "## Plots.Types.HeatMap\n",
    "\n",
    "yay! now for the fun part, drawing the chart."
   ]
  },
  {
   "cell_type": "code",
   "execution_count": 25,
   "metadata": {
    "collapsed": true,
    "deletable": true,
    "editable": true
   },
   "outputs": [],
   "source": [
    "import Plots.Axis  (Axis, r2Axis)\n",
    "import Plots.Axis.ColourBar (colourBar)\n",
    "import Plots.Axis.Render (renderAxis)\n",
    "import Plots.Axis.Scale (axisExtend, noExtend)\n",
    "import Plots.Style (axisColourMap, magma, greys)\n",
    "import Plots.Types (display)\n",
    "import Plots.Types.HeatMap\n",
    "\n",
    "import Control.Lens ((&~), (.=))\n",
    "import Diagrams.Backend.Cairo (B, Cairo)\n",
    "import Diagrams.TwoD.Types (V2)\n",
    "import Diagrams.Core.Types (QDiagram)\n",
    "import IHaskell.Display.Diagrams\n",
    "import IHaskell.Display.Juicypixels hiding (display)\n",
    "\n"
   ]
  },
  {
   "cell_type": "code",
   "execution_count": 26,
   "metadata": {
    "collapsed": false,
    "deletable": true,
    "editable": true
   },
   "outputs": [
    {
     "data": {
      "image/png": "[encoded data removed]"
     },
     "metadata": {},
     "output_type": "display_data"
    }
   ],
   "source": [
    "heatMapAxis' :: Axis Cairo V2 Double\n",
    "heatMapAxis' = r2Axis &~ do\n",
    "  display colourBar\n",
    "  axisExtend Control.Lens..= noExtend\n",
    "  axisColourMap Control.Lens..= greys\n",
    "  --let result = [[1,1,3], [3,2,1],[1,2,2]]\n",
    "  heatMap' $ reverse tryAgain\n",
    "\n",
    "heatMapExample' = renderAxis heatMapAxis'\n",
    "diagram heatMapExample'"
   ]
  }
 ],
 "metadata": {
  "kernelspec": {
   "display_name": "Haskell",
   "language": "haskell",
   "name": "haskell"
  },
  "language_info": {
   "codemirror_mode": "ihaskell",
   "file_extension": ".hs",
   "name": "haskell",
   "version": "8.0.2"
  }
 },
 "nbformat": 4,
 "nbformat_minor": 2
}
