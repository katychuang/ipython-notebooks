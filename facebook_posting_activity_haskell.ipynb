{
 "cells": [
  {
   "cell_type": "markdown",
   "metadata": {},
   "source": [
    "# Reading JSON File With Haskell\n",
    "\n",
    "Author: Kat Chuang [@katychuang](http://twitter.com/katychuang) on Twitter\n",
    "\n",
    "## Objective\n",
    "\n",
    "The goal of this exercise is to parse JSON from the Facebook Graph Api using the Aeson library. \n",
    "\n",
    "I collected data from my most recent posts and previously saved json output from a [python version of this code](http://nbviewer.jupyter.org/github/katychuang/ipython-notebooks/blob/master/facebook_posting_activity.ipynb) and saved it into a `file.json` \n",
    "\n",
    "---\n",
    "\n",
    "First import the modules we'll need for this exercise."
   ]
  },
  {
   "cell_type": "code",
   "execution_count": 1,
   "metadata": {
    "collapsed": false
   },
   "outputs": [],
   "source": [
    "{-# LANGUAGE DeriveGeneric #-}\n",
    "\n",
    "import Data.Aeson\n",
    "import Data.Aeson.Types\n",
    "import Data.Time.Clock (UTCTime, diffUTCTime, utctDay)\n",
    "import Data.Time.Calendar\n",
    "import qualified Data.ByteString.Lazy as B\n",
    "import Data.Maybe (fromJust)\n",
    "import Options.Generic\n",
    "\n",
    "data Post = Post\n",
    "  { created_time :: UTCTime\n",
    "  , id           :: String\n",
    "  , message      :: Maybe String\n",
    "  , story        :: Maybe String\n",
    "  } deriving (Show, Generic)\n",
    "\n",
    "instance FromJSON Post\n",
    "instance ToJSON Post\n",
    "\n",
    "input <- B.readFile \"_+posts2017.json\""
   ]
  },
  {
   "cell_type": "markdown",
   "metadata": {},
   "source": [
    "We now have the `input` with the data read in from the JSON file. Now we can go ahead to parse the values.\n",
    "\n",
    "Here's one way, using `eitherDecode`, which captures the error message."
   ]
  },
  {
   "cell_type": "code",
   "execution_count": 2,
   "metadata": {
    "collapsed": false
   },
   "outputs": [
    {
     "data": {
      "text/plain": [
       "2017-03-19 22:23:36 UTC"
      ]
     },
     "metadata": {},
     "output_type": "display_data"
    }
   ],
   "source": [
    "let x = eitherDecode input :: Either String [Post]\n",
    "recent <- case x of \n",
    "  Left err -> putStrLn err\n",
    "  Right value -> mapM_ print $ take 1 [ created_time x | x <- value ]\n",
    "\n",
    "{- Types\n",
    "putStrLn :: String -> IO ()\n",
    "print :: Show a => a -> IO ()\n",
    "mapM_ :: (Monad m, Foldable t) => (a -> m b) -> t a -> m ()\n",
    "Data.Text.take :: Int -> Text -> Text\n",
    "-}"
   ]
  },
  {
   "cell_type": "markdown",
   "metadata": {},
   "source": [
    "We can be more concise with the code - assuming the JSON formatting is predictable - instead use `decode` while assigning the data to a variable. It auto parses the list of JSON dictionaries into a list of Haskell data record types. To show you how it works, we can print out one field from the first item in the list. "
   ]
  },
  {
   "cell_type": "code",
   "execution_count": 3,
   "metadata": {
    "collapsed": false
   },
   "outputs": [
    {
     "data": {
      "text/plain": [
       "2017-03-19 22:23:36 UTC"
      ]
     },
     "metadata": {},
     "output_type": "display_data"
    }
   ],
   "source": [
    "let (Just y) = decode input :: Maybe [Post]\n",
    "\n",
    "-- show most recent timestamp\n",
    "print $ created_time $ head y"
   ]
  },
  {
   "cell_type": "markdown",
   "metadata": {},
   "source": [
    "Not that we have `y`, we can easily work with displaying the information in a number of ways"
   ]
  },
  {
   "cell_type": "code",
   "execution_count": 4,
   "metadata": {
    "collapsed": false
   },
   "outputs": [
    {
     "data": {
      "text/plain": [
       "\"46 items in the file. Showing them all with map \""
      ]
     },
     "metadata": {},
     "output_type": "display_data"
    },
    {
     "data": {
      "text/plain": [
       "[2017-03-19 22:23:36 UTC,2017-03-19 21:45:38 UTC,2017-03-19 21:24:07 UTC,2017-03-19 17:26:43 UTC,2017-03-17 19:57:17 UTC,2017-03-16 05:57:48 UTC,2017-03-15 19:06:26 UTC,2017-03-12 19:49:29 UTC,2017-03-12 05:35:42 UTC,2017-03-11 03:48:44 UTC,2017-03-11 02:05:14 UTC,2017-03-10 19:10:38 UTC,2017-03-10 06:24:15 UTC,2017-03-10 06:09:01 UTC,2017-03-09 20:45:35 UTC,2017-03-09 20:19:24 UTC,2017-03-05 14:02:33 UTC,2017-03-05 12:31:59 UTC,2017-03-04 20:30:23 UTC,2017-03-02 09:45:44 UTC,2017-03-01 05:24:02 UTC,2017-02-28 20:22:52 UTC,2017-02-22 03:01:11 UTC,2017-02-17 15:18:44 UTC,2017-02-11 17:00:00 UTC,2017-02-10 02:00:00 UTC,2017-02-09 20:32:37 UTC,2017-02-08 22:55:17 UTC,2017-02-05 22:47:10 UTC,2017-02-05 15:59:21 UTC,2017-02-04 12:43:57 UTC,2017-02-02 14:15:57 UTC,2017-02-02 13:49:41 UTC,2017-01-30 05:57:13 UTC,2017-01-30 05:40:25 UTC,2017-01-29 22:48:25 UTC,2017-01-27 17:00:00 UTC,2017-01-25 20:41:15 UTC,2017-01-25 19:16:11 UTC,2017-01-25 03:00:00 UTC,2017-01-24 22:47:41 UTC,2017-01-18 02:22:55 UTC,2017-01-17 01:00:00 UTC,2017-01-15 17:00:00 UTC,2017-01-07 16:01:59 UTC,2017-01-05 23:55:06 UTC]"
      ]
     },
     "metadata": {},
     "output_type": "display_data"
    },
    {
     "data": {
      "text/plain": [
       "\"46 items in the file. Showing them with utctDay and list comprehension \""
      ]
     },
     "metadata": {},
     "output_type": "display_data"
    },
    {
     "data": {
      "text/plain": [
       "[2017-03-19,2017-03-19,2017-03-19,2017-03-19,2017-03-17,2017-03-16,2017-03-15,2017-03-12,2017-03-12,2017-03-11,2017-03-11,2017-03-10,2017-03-10,2017-03-10,2017-03-09,2017-03-09,2017-03-05,2017-03-05,2017-03-04,2017-03-02,2017-03-01,2017-02-28,2017-02-22,2017-02-17,2017-02-11,2017-02-10,2017-02-09,2017-02-08,2017-02-05,2017-02-05,2017-02-04,2017-02-02,2017-02-02,2017-01-30,2017-01-30,2017-01-29,2017-01-27,2017-01-25,2017-01-25,2017-01-25,2017-01-24,2017-01-18,2017-01-17,2017-01-15,2017-01-07,2017-01-05]"
      ]
     },
     "metadata": {},
     "output_type": "display_data"
    },
    {
     "data": {
      "text/plain": [
       "\"46 items posted in March\""
      ]
     },
     "metadata": {},
     "output_type": "display_data"
    },
    {
     "data": {
      "text/plain": [
       "[2017-03-19 22:23:36 UTC,2017-03-19 21:45:38 UTC,2017-03-19 21:24:07 UTC,2017-03-19 17:26:43 UTC,2017-03-17 19:57:17 UTC,2017-03-16 05:57:48 UTC,2017-03-15 19:06:26 UTC,2017-03-12 19:49:29 UTC,2017-03-12 05:35:42 UTC,2017-03-11 03:48:44 UTC,2017-03-11 02:05:14 UTC,2017-03-10 19:10:38 UTC,2017-03-10 06:24:15 UTC,2017-03-10 06:09:01 UTC,2017-03-09 20:45:35 UTC,2017-03-09 20:19:24 UTC,2017-03-05 14:02:33 UTC,2017-03-05 12:31:59 UTC,2017-03-04 20:30:23 UTC,2017-03-02 09:45:44 UTC,2017-03-01 05:24:02 UTC]"
      ]
     },
     "metadata": {},
     "output_type": "display_data"
    }
   ],
   "source": [
    "{- # Example showing listing and filters\n",
    "-}\n",
    "\n",
    "-- show all the timestamps\n",
    "print $ show (length y) ++ \" items in the file. Showing them all with map \"\n",
    "print (map created_time y) --same as: print $ map (\\post -> created_time post) y\n",
    "\n",
    "print $ show (length y) ++ \" items in the file. Showing them with utctDay and list comprehension \"\n",
    "print [ utctDay (created_time x) | x <- y ]\n",
    "\n",
    "-- Practice filtering\n",
    "print $ show (length y) ++  \" items posted in March\" \n",
    "print [ created_time x | x <- y, (>=) (utctDay $ created_time x) (fromGregorian 2017 3 1) ]"
   ]
  }
 ],
 "metadata": {
  "kernelspec": {
   "display_name": "Haskell",
   "language": "haskell",
   "name": "haskell"
  },
  "language_info": {
   "codemirror_mode": "ihaskell",
   "file_extension": ".hs",
   "name": "haskell",
   "version": "8.0.2"
  }
 },
 "nbformat": 4,
 "nbformat_minor": 2
}
