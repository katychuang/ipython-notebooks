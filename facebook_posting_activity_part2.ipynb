{
 "cells": [
  {
   "cell_type": "markdown",
   "metadata": {},
   "source": [
    "# Connecting to Facebook API (part 2)\n",
    "\n",
    "Written by Kat Chuang [@katychuang](http://twitter.com/katychuang)\n",
    "\n",
    "## Objective\n",
    "\n",
    "The goal of this exercise is to connect with Facebook Graph Api to collect information about my most recent posts, and also to collect each posts' subsequent comments and likes. This is a continuation from [part 1](http://nbviewer.jupyter.org/github/katychuang/ipython-notebooks/blob/master/facebook_posting_activity.ipynb)\n",
    "\n",
    "I collected data from my most recent posts and previously saved json output into a `file.json`\n",
    "\n",
    "In this part we try to plot the data into a chart for visual representation (it's a matplot lib heatmap type of visualization). \n",
    "\n",
    "I saved the filename in a separate config file in a separate local folder, `_keys` in a file name `facebook.py`. Inside you want to save a string variable like the following:\n",
    "\n",
    "```\n",
    "data_file=\"XXXXXX\"\n",
    "```\n"
   ]
  },
  {
   "cell_type": "code",
   "execution_count": 1,
   "metadata": {
    "collapsed": false,
    "deletable": true,
    "editable": true
   },
   "outputs": [
    {
     "name": "stdout",
     "output_type": "stream",
     "text": [
      "46 posts in this file\n"
     ]
    }
   ],
   "source": [
    "from _keys.facebook import data_file\n",
    "\n",
    "import json\n",
    "with open(data_file) as json_data:\n",
    "    data = json.load(json_data)\n",
    "    \n",
    "print (len(data), \"posts in this file\")"
   ]
  },
  {
   "cell_type": "markdown",
   "metadata": {},
   "source": [
    "From the above code, we read the text file and saved the JSON data to the variable `data` to work with.\n",
    "\n",
    "We need to pull the time stamps, and their accompanying day of week. We want to convert a list of timestamps into a list of formatted timestamps. But first, we import datetime and parser. "
   ]
  },
  {
   "cell_type": "code",
   "execution_count": 2,
   "metadata": {
    "collapsed": false,
    "deletable": true,
    "editable": true
   },
   "outputs": [
    {
     "name": "stdout",
     "output_type": "stream",
     "text": [
      "21 posts since 2017-03-01\n",
      "Sunday  \t 8\n",
      "Sunday  \t 8\n",
      "Sunday  \t 8\n",
      "Sunday  \t 8\n",
      "Friday  \t 4\n",
      "Thursday  \t 4\n",
      "Wednesday  \t 2\n",
      "Sunday  \t 8\n",
      "Sunday  \t 8\n",
      "Saturday  \t 3\n",
      "Saturday  \t 3\n",
      "Friday  \t 4\n",
      "Friday  \t 4\n",
      "Friday  \t 4\n",
      "Thursday  \t 4\n",
      "Thursday  \t 4\n",
      "Sunday  \t 8\n",
      "Sunday  \t 8\n",
      "Saturday  \t 3\n",
      "Thursday  \t 4\n",
      "Wednesday  \t 2\n"
     ]
    }
   ],
   "source": [
    "from datetime import datetime \n",
    "from dateutil.parser import parse\n",
    "\n",
    "# limit to just march posts\n",
    "march_posts = list(filter(lambda x: parse(x['created_time'][:-5]) >= datetime(2017, 3, 1), data ))\n",
    "print(len(march_posts), \"posts since\", datetime(2017, 3, 1).date())\n",
    "\n",
    "# get days to count occurrence\n",
    "march_days = list (map( lambda x: parse(x['created_time']).strftime(\"%A\"), march_posts ))\n",
    "\n",
    "# count number of posts by day of week\n",
    "for day in march_days: print(day, \" \\t\", march_days.count(day))"
   ]
  },
  {
   "cell_type": "markdown",
   "metadata": {},
   "source": [
    "Now let's write some utility functions to process the data for the chart.\n",
    "\n",
    "Scrub turns the raw string type into a datetime type. Then we can pass that into dow() and hod() to format the strings. "
   ]
  },
  {
   "cell_type": "code",
   "execution_count": 3,
   "metadata": {
    "collapsed": true
   },
   "outputs": [],
   "source": [
    "def scrub(raw_timestamp):\n",
    "    timestamp = parser.parse(raw_timestamp)\n",
    "    return dow(timestamp), hod(timestamp)\n",
    "\n",
    "# returns day of week\n",
    "def dow(date): return date.strftime(\"%A\")  # i.e. Monday\n",
    "\n",
    "# returns hour of day\n",
    "def hod(time): return time.strftime(\"%-I:%M%p\") # i.e. "
   ]
  },
  {
   "cell_type": "markdown",
   "metadata": {},
   "source": [
    "Now we want to try create nested lists. A month contains weeks, which in turn contains days. To express this in code, it would be something like so:\n",
    "\n",
    "```\n",
    "M = [W, W, W, ...]\n",
    "W = [\"Mon\", \"Tues, \"Wed\", \"Thu\", ... ]\n",
    "```\n",
    "\n",
    "The lists are combined into a list of lists. The "
   ]
  },
  {
   "cell_type": "code",
   "execution_count": 4,
   "metadata": {
    "collapsed": false,
    "deletable": true,
    "editable": true
   },
   "outputs": [
    {
     "name": "stdout",
     "output_type": "stream",
     "text": [
      "[[0, 0, 0, 0, 0, 0, 0], [0, 0, 0, 0, 0, 0, 0], [0, 0, 0, 0, 0, 0, 0], [0, 0, 0, 0, 0, 0, 0], [0, 0, 0, 0, 0, 0, 0]]\n",
      "active days: \n",
      " [[0, 0, 1, 1, 0, 1, 1], [0, 0, 0, 1, 1, 1, 1], [0, 0, 1, 1, 1, 0, 1], [0, 0, 0, 0, 0, 0, 0], [0, 0, 0, 0, 0, 0, 0]]\n"
     ]
    }
   ],
   "source": [
    "yIndex = [\"Monday\",\"Tuesday\",\"Wednesday\",\"Thursday\",\"Friday\",\"Saturday\",\"Sunday\"]\n",
    "\n",
    "# Get a list of week numbers, 0-3. Note that March starts on week 9 of 2017 \n",
    "# but we subtract 9 to start at index 0\n",
    "get_week = list (map( lambda x: parse(x['created_time']).isocalendar()[1]-9, march_posts ))\n",
    "\n",
    "# Get a list of day numbers, 0-6\n",
    "get_day = list (map( lambda x: yIndex.index(parse(x['created_time']).strftime(\"%A\")), march_posts ))\n",
    "\n",
    "# create empty array\n",
    "from itertools import repeat\n",
    "month = [[0] * 7 for i in repeat(None, 5)]\n",
    "print(month)\n",
    "\n",
    "# go thru posts to fill in empty array\n",
    "for i, (w, d) in enumerate(zip(get_week, get_day)):\n",
    "    month[w][d] = 1\n",
    "    \n",
    "print(\"active days: \\n\", month)"
   ]
  },
  {
   "cell_type": "markdown",
   "metadata": {},
   "source": [
    "Now let's step it up and count posts per day, so we can have more than 2 shades of colors on the heatmap."
   ]
  },
  {
   "cell_type": "code",
   "execution_count": 5,
   "metadata": {
    "collapsed": false
   },
   "outputs": [
    {
     "name": "stdout",
     "output_type": "stream",
     "text": [
      "activity per day: \n",
      " [[0, 0, 0.047619047619047616, 0.047619047619047616, 0, 0.047619047619047616, 0.09523809523809523], [0, 0, 0, 0.09523809523809523, 0.14285714285714285, 0.09523809523809523, 0.09523809523809523], [0, 0, 0.047619047619047616, 0.047619047619047616, 0.047619047619047616, 0, 0.19047619047619047], [0, 0, 0, 0, 0, 0, 0], [0, 0, 0, 0, 0, 0, 0]]\n"
     ]
    }
   ],
   "source": [
    "# empty list of lists\n",
    "activity = [[0] * 7 for i in repeat(None, 5)]\n",
    "\n",
    "# the total number of posts\n",
    "limit = len(get_week)\n",
    "\n",
    "# fill in empty array with a fraction\n",
    "for i, (w, d) in enumerate(zip(get_week, get_day)):\n",
    "    activity[w][d] += 1/limit\n",
    "    \n",
    "print(\"activity per day: \\n\", activity)"
   ]
  },
  {
   "cell_type": "markdown",
   "metadata": {},
   "source": [
    "Now our data is ready for plotting. Let's do the important config stuff."
   ]
  },
  {
   "cell_type": "code",
   "execution_count": 8,
   "metadata": {
    "collapsed": false
   },
   "outputs": [],
   "source": [
    "%matplotlib inline\n",
    "import matplotlib.pyplot as plt\n",
    "import numpy as np"
   ]
  },
  {
   "cell_type": "markdown",
   "metadata": {},
   "source": [
    "Here's how you create a chart of heatmap type, filled in with values from activity."
   ]
  },
  {
   "cell_type": "code",
   "execution_count": 9,
   "metadata": {
    "collapsed": false,
    "deletable": true,
    "editable": true
   },
   "outputs": [
    {
     "data": {
      "image/png": "[encoded data removed]",
      "text/plain": [
       "<matplotlib.figure.Figure at 0x1034fed68>"
      ]
     },
     "metadata": {},
     "output_type": "display_data"
    }
   ],
   "source": [
    "fig, ax = plt.subplots()\n",
    "heatmap = ax.pcolor(activity, cmap=plt.cm.Greens, alpha=0.8)\n",
    "\n",
    "# put the major ticks at the middle of each cell\n",
    "ax.set_xticks(np.arange(0,7)+0.5, minor=False)\n",
    "ax.set_yticks(np.arange(0,5)+0.5, minor=False)\n",
    "\n",
    "# want a more natural, table-like display\n",
    "ax.invert_yaxis()\n",
    "ax.xaxis.tick_top()\n",
    "\n",
    "# labels\n",
    "column_labels = [\"Mon\", \"Tues\", \"Wed\", \"Thurs\", \"Fri\", \"Sat\", \"Sun\"] \n",
    "ax.set_xticklabels(column_labels, minor=False)\n",
    "ax.set_yticklabels(list(''), minor=False)\n",
    "\n",
    "plt.show()"
   ]
  },
  {
   "cell_type": "markdown",
   "metadata": {},
   "source": [
    "I'm not liking how the borders look like. So I'm going to create another version with the seaborn library."
   ]
  },
  {
   "cell_type": "code",
   "execution_count": 10,
   "metadata": {
    "collapsed": false,
    "deletable": true,
    "editable": true
   },
   "outputs": [
    {
     "data": {
      "image/png": "[encoded data removed]",
      "text/plain": [
       "<matplotlib.figure.Figure at 0x1068aa978>"
      ]
     },
     "metadata": {},
     "output_type": "display_data"
    }
   ],
   "source": [
    "import seaborn as sns\n",
    "\n",
    "sns.set(font_scale=1.2)\n",
    "sns.set_style({\"savefig.dpi\": 100})\n",
    "\n",
    "ax = sns.heatmap(activity, cmap=plt.cm.Greens, linewidths=.1)\n",
    "\n",
    "ax.xaxis.tick_top()\n",
    "ax.set_xticklabels(column_labels, minor=False)\n",
    "ax.set_yticklabels(list(''), minor=False)\n",
    "\n",
    "fig = ax.get_figure()"
   ]
  },
  {
   "cell_type": "code",
   "execution_count": null,
   "metadata": {
    "collapsed": false,
    "deletable": true,
    "editable": true
   },
   "outputs": [],
   "source": []
  },
  {
   "cell_type": "code",
   "execution_count": null,
   "metadata": {
    "collapsed": true,
    "deletable": true,
    "editable": true
   },
   "outputs": [],
   "source": []
  }
 ],
 "metadata": {
  "kernelspec": {
   "display_name": "Python 3",
   "language": "python",
   "name": "python3"
  },
  "language_info": {
   "codemirror_mode": {
    "name": "ipython",
    "version": 3
   },
   "file_extension": ".py",
   "mimetype": "text/x-python",
   "name": "python",
   "nbconvert_exporter": "python",
   "pygments_lexer": "ipython3",
   "version": "3.6.0"
  }
 },
 "nbformat": 4,
 "nbformat_minor": 2
}
