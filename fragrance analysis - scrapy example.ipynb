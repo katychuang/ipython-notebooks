{
 "cells": [
  {
   "cell_type": "markdown",
   "metadata": {
    "deletable": true,
    "editable": true
   },
   "source": [
    "# Fragrance analysis\n",
    "Author: [@katychuang](http://katychuang.com)\n",
    "\n",
    "Description: I want to learn more about what's out there in the fragrance world so am starting this project to collect data. There's no existing API to a database of fragrance information so I'm scraping websites as a way to collect some data for analysis.\n",
    "\n",
    "## Scrapy example\n",
    "\n",
    "Code in this notebook is an example of using scrapy to scrape data off one webpage of Fragrantica. The code below is for Python3, Scrapy (1.4.0).\n",
    "\n",
    "---\n",
    "\n",
    "### Making requests\n",
    "\n",
    "Using the requests library, which returns binary data and the scrapy [TextResponse](https://doc.scrapy.org/en/latest/topics/request-response.html#scrapy.http.TextResponse) module to read the binary data.\n",
    "\n",
    "Thanks to [@jasonwirth](https://github.com/jasonwirth)'s tip about using user agent strings, I was able to get around the 403 forbidden access error codes while scraping. There are [many user agents](http://www.useragentstring.com/pages/useragentstring.php?name=Firefox) available to use, the [top ones are listed here](https://techblog.willshouse.com/2012/01/03/most-common-user-agents/), and it's conventionally good to rotate/randomize the use of the strings.\n"
   ]
  },
  {
   "cell_type": "code",
   "execution_count": 1,
   "metadata": {
    "collapsed": false,
    "deletable": true,
    "editable": true
   },
   "outputs": [],
   "source": [
    "import requests\n",
    "from scrapy.http import TextResponse\n",
    "\n",
    "url = \"https://www.fragrantica.com/designers/Dolce%26Gabbana.html\"\n",
    "user_agent = {'User-Agent': 'Mozilla/5.0 (X11; Linux x86_64) AppleWebKit/537.36 (KHTML, like Gecko) Ubuntu Chromium/58: .0.3029.110 Chrome/58.0.3029.110 Safari/537.36'}\n",
    "\n",
    "r = requests.get(url, headers=user_agent)\n",
    "response = TextResponse(r.url, body=r.text, encoding='utf-8')"
   ]
  },
  {
   "cell_type": "markdown",
   "metadata": {},
   "source": [
    "Once we have the response, which is a huge chunk of minimized html tags, we need to navigate through the DOM structure to get exactly the information needed. The perfumes are thankfully listed in the tree with the ID `#col1`, so I can start there as the root and get all the perfume names by picking specific child DOM nodes."
   ]
  },
  {
   "cell_type": "code",
   "execution_count": 2,
   "metadata": {
    "collapsed": false
   },
   "outputs": [
    {
     "name": "stdout",
     "output_type": "stream",
     "text": [
      "There are 66 perfumes from Dolce & Gabanna\n",
      "[' Sicily', ' By', ' By', ' D&G', ' D&G', ' Dolce&Gabbana Perfume for Babies', ' Dolce&Gabbana Pour Femme', ' Dolce&Gabbana Pour Femme Intense', ' Dolce&Gabbana Pour Homme', ' Dolce&Gabbana Pour Homme Intenso ', ' D&G Feminine', ' D&G Masculine', \" D&G Anthology L'Empereur 4\", ' D&G Anthology La Force 11', ' D&G Anthology La Lune 18', ' D&G Anthology La Roue de La Fortune 10', ' D&G Anthology La Temperance 14', ' D&G Anthology Le Bateleur 1', ' D&G Anthology Le Fou 21', ' D&G Anthology L`Amoureux 6', ' D&G Anthology L`Imperatrice 3', ' Dolce', ' Dolce Floral Drops', ' Dolce Rosa Excelsa', ' D&G Light Blue', ' Light Blue Discover Vulcano Pour Homme', ' Light Blue Dreaming in Portofino', ' Light Blue Eau Intense', ' Light Blue Eau Intense Pour Homme', ' Light Blue Escape to Panarea', ' Light Blue Living Stromboli', ' Light Blue Love in Capri', ' Light Blue pour Homme', ' Light Blue Pour Homme Beauty of Capri ', ' Light Blue Sunset in Salina', ' Light Blue Swimming in Lipari', ' L`eau The One', ' Rose The One', ' The One', ' The One Collector For Men', ' The One Collector For Women', ' The One Desire', ' The One Essence', ' The One for Men', ' The One for Men Eau de Parfum', ' The One for Men Platinum Limited Edition', ' The One Gentleman', ' The One Gold Limited Edition', ' The One Lace Edition', ' The One Royal Night', ' The One Sport', ' Velvet Bergamot', ' Velvet Cypress', ' Velvet Desert Oud', ' Velvet Desire', ' Velvet Exotic Leather', ' Velvet Ginestra', ' Velvet Love', ' Velvet Mimosa Bloom', ' Velvet Patchouli', ' Velvet Pure', ' Velvet Rose', ' Velvet Sublime', ' Velvet Tender Oud', ' Velvet Vetiver', ' Velvet Wood']\n"
     ]
    }
   ],
   "source": [
    "# Navigate the perfume list\n",
    "c = response.xpath('//div[@id=\"col1\"]/div[@class=\"perfumeslist\"]/div/div/p/a//text()').extract()\n",
    "print(\"There are {} perfumes from Dolce & Gabanna\".format(len(c)))\n",
    "print(c)"
   ]
  },
  {
   "cell_type": "markdown",
   "metadata": {
    "deletable": true,
    "editable": true
   },
   "source": [
    "The `extract()` method returns a list, so it was easy to get the number of items by finding the length of the list.\n",
    "\n",
    "---\n",
    "\n",
    "### Parsing the response\n",
    "Once you have the response, you can parse the output to get all the bits of information needed. I'm interested in the name of the perfume, the gender it's made for, the image, and also the url to the product detail page. The function `parse_perfume_data()` takes the response and outputs the fields to a list of dictionaries."
   ]
  },
  {
   "cell_type": "code",
   "execution_count": 3,
   "metadata": {
    "collapsed": false,
    "deletable": true,
    "editable": true
   },
   "outputs": [],
   "source": [
    "def parse_perfume_data(response):\n",
    "    my_list = []\n",
    "    for row in response.xpath('//div[@id=\"col1\"]/div[@class=\"perfumeslist\"]'):\n",
    "      perfume = {}\n",
    "      perfume['name'] = row.xpath('div/div/p/a//text()').extract()[0]\n",
    "      perfume['year'] = year(row.xpath('div/div/p/span[@class=\"mtext\"]/span/strong/text()').extract())\n",
    "      perfume['gender'] = row.xpath('div/@class').extract()[0].split(' ')[1][6:]\n",
    "      perfume['img'] = row.xpath('div/div/p/a/img//@src').extract()[0]\n",
    "      perfume['url'] = row.xpath('div/div/p/a/@href').extract()[0]\n",
    "      my_list.append(perfume)\n",
    "    return my_list\n",
    "\n",
    "def year(y):\n",
    "    if len(y) >= 1:\n",
    "        return y[0]\n",
    "    else:\n",
    "        return ''"
   ]
  },
  {
   "cell_type": "markdown",
   "metadata": {
    "deletable": true,
    "editable": true
   },
   "source": [
    "Now we call this function while passing in the `response` to get the `data`, which is a structured extraction from the response. I chose some easy to remember field names to use as dictionary keys."
   ]
  },
  {
   "cell_type": "code",
   "execution_count": 4,
   "metadata": {
    "collapsed": false,
    "deletable": true,
    "editable": true
   },
   "outputs": [],
   "source": [
    "data = parse_perfume_data(response)"
   ]
  },
  {
   "cell_type": "markdown",
   "metadata": {
    "deletable": true,
    "editable": true
   },
   "source": [
    "Here's how the data looks like after parsing. "
   ]
  },
  {
   "cell_type": "code",
   "execution_count": 5,
   "metadata": {
    "collapsed": false,
    "deletable": true,
    "editable": true
   },
   "outputs": [
    {
     "name": "stdout",
     "output_type": "stream",
     "text": [
      "{'name': ' Sicily', 'year': '', 'gender': 'female', 'img': 'https://fimgs.net/images/perfume/m.486.jpg', 'url': '/perfume/Dolce-Gabbana/Sicily-486.html'}\n",
      "{'name': ' By', 'year': '1999', 'gender': 'female', 'img': 'https://fimgs.net/images/perfume/m.489.jpg', 'url': '/perfume/Dolce-Gabbana/By-489.html'}\n"
     ]
    }
   ],
   "source": [
    "print(data[0])\n",
    "print(data[1])"
   ]
  },
  {
   "cell_type": "markdown",
   "metadata": {
    "deletable": true,
    "editable": true
   },
   "source": [
    "---\n",
    "\n",
    "### Data Analysis\n",
    "\n",
    "Now we can do some quick stats, for example to see how many products per gender"
   ]
  },
  {
   "cell_type": "code",
   "execution_count": 6,
   "metadata": {
    "collapsed": false,
    "deletable": true,
    "editable": true
   },
   "outputs": [
    {
     "data": {
      "text/plain": [
       "Counter({'female': 33, 'male': 24, 'unisex': 9})"
      ]
     },
     "execution_count": 6,
     "metadata": {},
     "output_type": "execute_result"
    }
   ],
   "source": [
    "from collections import Counter\n",
    "Counter(token['gender'] for token in data)"
   ]
  },
  {
   "cell_type": "code",
   "execution_count": 7,
   "metadata": {
    "collapsed": false
   },
   "outputs": [
    {
     "data": {
      "text/plain": [
       "Counter({'': 1,\n",
       "         '1992': 1,\n",
       "         '1994': 1,\n",
       "         '1997': 1,\n",
       "         '1999': 3,\n",
       "         '2001': 1,\n",
       "         '2006': 1,\n",
       "         '2007': 1,\n",
       "         '2008': 2,\n",
       "         '2009': 7,\n",
       "         '2010': 1,\n",
       "         '2011': 9,\n",
       "         '2012': 6,\n",
       "         '2013': 7,\n",
       "         '2014': 8,\n",
       "         '2015': 8,\n",
       "         '2016': 5,\n",
       "         '2017': 3})"
      ]
     },
     "execution_count": 7,
     "metadata": {},
     "output_type": "execute_result"
    }
   ],
   "source": [
    "Counter(token['year'] for token in data)"
   ]
  },
  {
   "cell_type": "code",
   "execution_count": 8,
   "metadata": {
    "collapsed": false
   },
   "outputs": [
    {
     "name": "stdout",
     "output_type": "stream",
     "text": [
      "Year M F U T\n",
      "1992 0 1 0 1\n",
      "1994 1 0 0 1\n",
      "1997 1 0 0 1\n",
      "1999 1 2 0 3\n",
      "2001 0 1 0 1\n",
      "2006 0 1 0 1\n",
      "2007 1 0 0 1\n",
      "2008 1 1 0 2\n",
      "2009 3 4 0 7\n",
      "2010 1 0 0 1\n",
      "2011 1 4 4 9\n",
      "2012 4 2 0 6\n",
      "2013 1 3 3 7\n",
      "2014 4 4 0 8\n",
      "2015 3 4 1 8\n",
      "2016 1 4 0 5\n",
      "2017 1 1 1 3\n"
     ]
    }
   ],
   "source": [
    "years = list(sorted(set([p['year'] for p in data[1:]])))\n",
    "yTotal = Counter(token['year'] for token in data)\n",
    "\n",
    "print('Year', 'M', 'F', 'U', 'T')\n",
    "for y in years:\n",
    "    filtered = list(filter(lambda d: d['year'] == y, data))\n",
    "    count = Counter(token['gender'] for token in filtered)\n",
    "    print(y, count['male'], count['female'], count['unisex'], yTotal[y])"
   ]
  },
  {
   "cell_type": "markdown",
   "metadata": {},
   "source": [
    "Values *where*, \n",
    "\n",
    "* M = Male\n",
    "* F = Female\n",
    "* U = Unisex\n",
    "* T = Total"
   ]
  },
  {
   "cell_type": "markdown",
   "metadata": {},
   "source": [
    " ```\n",
    " \n",
    " \n",
    " \n",
    " \n",
    " \n",
    " \n",
    " \n",
    " \n",
    " \n",
    " intentional blank space \n",
    " \n",
    " \n",
    " \n",
    " \n",
    " \n",
    " \n",
    "  \n",
    "   \n",
    "    \n",
    "     \n",
    "      \n",
    "```\n",
    "\n",
    "---\n",
    "\n",
    "# Appendix"
   ]
  },
  {
   "cell_type": "code",
   "execution_count": 9,
   "metadata": {
    "collapsed": false,
    "deletable": true,
    "editable": true
   },
   "outputs": [
    {
     "data": {
      "text/plain": [
       "[{'gender': 'female',\n",
       "  'img': 'https://fimgs.net/images/perfume/m.486.jpg',\n",
       "  'name': ' Sicily',\n",
       "  'url': '/perfume/Dolce-Gabbana/Sicily-486.html',\n",
       "  'year': ''},\n",
       " {'gender': 'female',\n",
       "  'img': 'https://fimgs.net/images/perfume/m.489.jpg',\n",
       "  'name': ' By',\n",
       "  'url': '/perfume/Dolce-Gabbana/By-489.html',\n",
       "  'year': '1999'},\n",
       " {'gender': 'male',\n",
       "  'img': 'https://fimgs.net/images/perfume/m.490.jpg',\n",
       "  'name': ' By',\n",
       "  'url': '/perfume/Dolce-Gabbana/By-490.html',\n",
       "  'year': '1997'},\n",
       " {'gender': 'male',\n",
       "  'img': 'https://fimgs.net/images/perfume/m.483.jpg',\n",
       "  'name': ' D&G',\n",
       "  'url': '/perfume/Dolce-Gabbana/D-G-483.html',\n",
       "  'year': '1994'},\n",
       " {'gender': 'female',\n",
       "  'img': 'https://fimgs.net/images/perfume/m.484.jpg',\n",
       "  'name': ' D&G',\n",
       "  'url': '/perfume/Dolce-Gabbana/D-G-484.html',\n",
       "  'year': '1992'},\n",
       " {'gender': 'unisex',\n",
       "  'img': 'https://fimgs.net/images/perfume/m.23597.jpg',\n",
       "  'name': ' Dolce&Gabbana Perfume for Babies',\n",
       "  'url': '/perfume/Dolce-Gabbana/Dolce-Gabbana-Perfume-for-Babies-23597.html',\n",
       "  'year': '2013'},\n",
       " {'gender': 'female',\n",
       "  'img': 'https://fimgs.net/images/perfume/m.15335.jpg',\n",
       "  'name': ' Dolce&Gabbana Pour Femme',\n",
       "  'url': '/perfume/Dolce-Gabbana/Dolce-Gabbana-Pour-Femme-15335.html',\n",
       "  'year': '2012'},\n",
       " {'gender': 'female',\n",
       "  'img': 'https://fimgs.net/images/perfume/m.18837.jpg',\n",
       "  'name': ' Dolce&Gabbana Pour Femme Intense',\n",
       "  'url': '/perfume/Dolce-Gabbana/Dolce-Gabbana-Pour-Femme-Intense-18837.html',\n",
       "  'year': '2013'},\n",
       " {'gender': 'male',\n",
       "  'img': 'https://fimgs.net/images/perfume/m.15336.jpg',\n",
       "  'name': ' Dolce&Gabbana Pour Homme',\n",
       "  'url': '/perfume/Dolce-Gabbana/Dolce-Gabbana-Pour-Homme-15336.html',\n",
       "  'year': '2012'},\n",
       " {'gender': 'male',\n",
       "  'img': 'https://fimgs.net/images/perfume/m.28935.jpg',\n",
       "  'name': ' Dolce&Gabbana Pour Homme Intenso ',\n",
       "  'url': '/perfume/Dolce-Gabbana/Dolce-Gabbana-Pour-Homme-Intenso-28935.html',\n",
       "  'year': '2014'},\n",
       " {'gender': 'female',\n",
       "  'img': 'https://fimgs.net/images/perfume/m.487.jpg',\n",
       "  'name': ' D&G Feminine',\n",
       "  'url': '/perfume/Dolce-Gabbana/D-G-Feminine-487.html',\n",
       "  'year': '1999'},\n",
       " {'gender': 'male',\n",
       "  'img': 'https://fimgs.net/images/perfume/m.488.jpg',\n",
       "  'name': ' D&G Masculine',\n",
       "  'url': '/perfume/Dolce-Gabbana/D-G-Masculine-488.html',\n",
       "  'year': '1999'},\n",
       " {'gender': 'male',\n",
       "  'img': 'https://fimgs.net/images/perfume/m.14407.jpg',\n",
       "  'name': \" D&G Anthology L'Empereur 4\",\n",
       "  'url': '/perfume/Dolce-Gabbana/D-G-Anthology-L-Empereur-4-14407.html',\n",
       "  'year': '2012'},\n",
       " {'gender': 'male',\n",
       "  'img': 'https://fimgs.net/images/perfume/m.6842.jpg',\n",
       "  'name': ' D&G Anthology La Force 11',\n",
       "  'url': '/perfume/Dolce-Gabbana/D-G-Anthology-La-Force-11-6842.html',\n",
       "  'year': '2009'},\n",
       " {'gender': 'female',\n",
       "  'img': 'https://fimgs.net/images/perfume/m.6089.jpg',\n",
       "  'name': ' D&G Anthology La Lune 18',\n",
       "  'url': '/perfume/Dolce-Gabbana/D-G-Anthology-La-Lune-18-6089.html',\n",
       "  'year': '2009'},\n",
       " {'gender': 'female',\n",
       "  'img': 'https://fimgs.net/images/perfume/m.6088.jpg',\n",
       "  'name': ' D&G Anthology La Roue de La Fortune 10',\n",
       "  'url': '/perfume/Dolce-Gabbana/D-G-Anthology-La-Roue-de-La-Fortune-10-6088.html',\n",
       "  'year': '2009'},\n",
       " {'gender': 'female',\n",
       "  'img': 'https://fimgs.net/images/perfume/m.12483.jpg',\n",
       "  'name': ' D&G Anthology La Temperance 14',\n",
       "  'url': '/perfume/Dolce-Gabbana/D-G-Anthology-La-Temperance-14-12483.html',\n",
       "  'year': '2011'},\n",
       " {'gender': 'male',\n",
       "  'img': 'https://fimgs.net/images/perfume/m.6085.jpg',\n",
       "  'name': ' D&G Anthology Le Bateleur 1',\n",
       "  'url': '/perfume/Dolce-Gabbana/D-G-Anthology-Le-Bateleur-1-6085.html',\n",
       "  'year': '2009'},\n",
       " {'gender': 'male',\n",
       "  'img': 'https://fimgs.net/images/perfume/m.12484.jpg',\n",
       "  'name': ' D&G Anthology Le Fou 21',\n",
       "  'url': '/perfume/Dolce-Gabbana/D-G-Anthology-Le-Fou-21-12484.html',\n",
       "  'year': '2011'},\n",
       " {'gender': 'male',\n",
       "  'img': 'https://fimgs.net/images/perfume/m.6087.jpg',\n",
       "  'name': ' D&G Anthology L`Amoureux 6',\n",
       "  'url': '/perfume/Dolce-Gabbana/D-G-Anthology-L-Amoureux-6-6087.html',\n",
       "  'year': '2009'},\n",
       " {'gender': 'female',\n",
       "  'img': 'https://fimgs.net/images/perfume/m.6086.jpg',\n",
       "  'name': ' D&G Anthology L`Imperatrice 3',\n",
       "  'url': '/perfume/Dolce-Gabbana/D-G-Anthology-L-Imperatrice-3-6086.html',\n",
       "  'year': '2009'},\n",
       " {'gender': 'female',\n",
       "  'img': 'https://fimgs.net/images/perfume/m.22955.jpg',\n",
       "  'name': ' Dolce',\n",
       "  'url': '/perfume/Dolce-Gabbana/Dolce-22955.html',\n",
       "  'year': '2014'},\n",
       " {'gender': 'female',\n",
       "  'img': 'https://fimgs.net/images/perfume/m.29524.jpg',\n",
       "  'name': ' Dolce Floral Drops',\n",
       "  'url': '/perfume/Dolce-Gabbana/Dolce-Floral-Drops-29524.html',\n",
       "  'year': '2015'},\n",
       " {'gender': 'female',\n",
       "  'img': 'https://fimgs.net/images/perfume/m.32612.jpg',\n",
       "  'name': ' Dolce Rosa Excelsa',\n",
       "  'url': '/perfume/Dolce-Gabbana/Dolce-Rosa-Excelsa-32612.html',\n",
       "  'year': '2016'},\n",
       " {'gender': 'female',\n",
       "  'img': 'https://fimgs.net/images/perfume/m.485.jpg',\n",
       "  'name': ' D&G Light Blue',\n",
       "  'url': '/perfume/Dolce-Gabbana/D-G-Light-Blue-485.html',\n",
       "  'year': '2001'},\n",
       " {'gender': 'male',\n",
       "  'img': 'https://fimgs.net/images/perfume/m.23619.jpg',\n",
       "  'name': ' Light Blue Discover Vulcano Pour Homme',\n",
       "  'url': '/perfume/Dolce-Gabbana/Light-Blue-Discover-Vulcano-Pour-Homme-23619.html',\n",
       "  'year': '2014'},\n",
       " {'gender': 'female',\n",
       "  'img': 'https://fimgs.net/images/perfume/m.14799.jpg',\n",
       "  'name': ' Light Blue Dreaming in Portofino',\n",
       "  'url': '/perfume/Dolce-Gabbana/Light-Blue-Dreaming-in-Portofino-14799.html',\n",
       "  'year': '2012'},\n",
       " {'gender': 'female',\n",
       "  'img': 'https://fimgs.net/images/perfume/m.44034.jpg',\n",
       "  'name': ' Light Blue Eau Intense',\n",
       "  'url': '/perfume/Dolce-Gabbana/Light-Blue-Eau-Intense-44034.html',\n",
       "  'year': '2017'},\n",
       " {'gender': 'male',\n",
       "  'img': 'https://fimgs.net/images/perfume/m.44035.jpg',\n",
       "  'name': ' Light Blue Eau Intense Pour Homme',\n",
       "  'url': '/perfume/Dolce-Gabbana/Light-Blue-Eau-Intense-Pour-Homme-44035.html',\n",
       "  'year': '2017'},\n",
       " {'gender': 'female',\n",
       "  'img': 'https://fimgs.net/images/perfume/m.23620.jpg',\n",
       "  'name': ' Light Blue Escape to Panarea',\n",
       "  'url': '/perfume/Dolce-Gabbana/Light-Blue-Escape-to-Panarea-23620.html',\n",
       "  'year': '2014'},\n",
       " {'gender': 'male',\n",
       "  'img': 'https://fimgs.net/images/perfume/m.14800.jpg',\n",
       "  'name': ' Light Blue Living Stromboli',\n",
       "  'url': '/perfume/Dolce-Gabbana/Light-Blue-Living-Stromboli-14800.html',\n",
       "  'year': '2012'},\n",
       " {'gender': 'female',\n",
       "  'img': 'https://fimgs.net/images/perfume/m.36601.jpg',\n",
       "  'name': ' Light Blue Love in Capri',\n",
       "  'url': '/perfume/Dolce-Gabbana/Light-Blue-Love-in-Capri-36601.html',\n",
       "  'year': '2016'},\n",
       " {'gender': 'male',\n",
       "  'img': 'https://fimgs.net/images/perfume/m.1068.jpg',\n",
       "  'name': ' Light Blue pour Homme',\n",
       "  'url': '/perfume/Dolce-Gabbana/Light-Blue-pour-Homme-1068.html',\n",
       "  'year': '2007'},\n",
       " {'gender': 'male',\n",
       "  'img': 'https://fimgs.net/images/perfume/m.36602.jpg',\n",
       "  'name': ' Light Blue Pour Homme Beauty of Capri ',\n",
       "  'url': '/perfume/Dolce-Gabbana/Light-Blue-Pour-Homme-Beauty-of-Capri-36602.html',\n",
       "  'year': '2016'},\n",
       " {'gender': 'female',\n",
       "  'img': 'https://fimgs.net/images/perfume/m.29959.jpg',\n",
       "  'name': ' Light Blue Sunset in Salina',\n",
       "  'url': '/perfume/Dolce-Gabbana/Light-Blue-Sunset-in-Salina-29959.html',\n",
       "  'year': '2015'},\n",
       " {'gender': 'male',\n",
       "  'img': 'https://fimgs.net/images/perfume/m.29960.jpg',\n",
       "  'name': ' Light Blue Swimming in Lipari',\n",
       "  'url': '/perfume/Dolce-Gabbana/Light-Blue-Swimming-in-Lipari-29960.html',\n",
       "  'year': '2015'},\n",
       " {'gender': 'female',\n",
       "  'img': 'https://fimgs.net/images/perfume/m.4494.jpg',\n",
       "  'name': ' L`eau The One',\n",
       "  'url': '/perfume/Dolce-Gabbana/L-eau-The-One-4494.html',\n",
       "  'year': '2008'},\n",
       " {'gender': 'female',\n",
       "  'img': 'https://fimgs.net/images/perfume/m.6461.jpg',\n",
       "  'name': ' Rose The One',\n",
       "  'url': '/perfume/Dolce-Gabbana/Rose-The-One-6461.html',\n",
       "  'year': '2009'},\n",
       " {'gender': 'female',\n",
       "  'img': 'https://fimgs.net/images/perfume/m.698.jpg',\n",
       "  'name': ' The One',\n",
       "  'url': '/perfume/Dolce-Gabbana/The-One-698.html',\n",
       "  'year': '2006'},\n",
       " {'gender': 'male',\n",
       "  'img': 'https://fimgs.net/images/perfume/m.27419.jpg',\n",
       "  'name': ' The One Collector For Men',\n",
       "  'url': '/perfume/Dolce-Gabbana/The-One-Collector-For-Men-27419.html',\n",
       "  'year': '2014'},\n",
       " {'gender': 'female',\n",
       "  'img': 'https://fimgs.net/images/perfume/m.27418.jpg',\n",
       "  'name': ' The One Collector For Women',\n",
       "  'url': '/perfume/Dolce-Gabbana/The-One-Collector-For-Women-27418.html',\n",
       "  'year': '2014'},\n",
       " {'gender': 'female',\n",
       "  'img': 'https://fimgs.net/images/perfume/m.17124.jpg',\n",
       "  'name': ' The One Desire',\n",
       "  'url': '/perfume/Dolce-Gabbana/The-One-Desire-17124.html',\n",
       "  'year': '2013'},\n",
       " {'gender': 'female',\n",
       "  'img': 'https://fimgs.net/images/perfume/m.31968.jpg',\n",
       "  'name': ' The One Essence',\n",
       "  'url': '/perfume/Dolce-Gabbana/The-One-Essence-31968.html',\n",
       "  'year': '2015'},\n",
       " {'gender': 'male',\n",
       "  'img': 'https://fimgs.net/images/perfume/m.2056.jpg',\n",
       "  'name': ' The One for Men',\n",
       "  'url': '/perfume/Dolce-Gabbana/The-One-for-Men-2056.html',\n",
       "  'year': '2008'},\n",
       " {'gender': 'male',\n",
       "  'img': 'https://fimgs.net/images/perfume/m.31909.jpg',\n",
       "  'name': ' The One for Men Eau de Parfum',\n",
       "  'url': '/perfume/Dolce-Gabbana/The-One-for-Men-Eau-de-Parfum-31909.html',\n",
       "  'year': '2015'},\n",
       " {'gender': 'male',\n",
       "  'img': 'https://fimgs.net/images/perfume/m.22108.jpg',\n",
       "  'name': ' The One for Men Platinum Limited Edition',\n",
       "  'url': '/perfume/Dolce-Gabbana/The-One-for-Men-Platinum-Limited-Edition-22108.html',\n",
       "  'year': '2013'},\n",
       " {'gender': 'male',\n",
       "  'img': 'https://fimgs.net/images/perfume/m.8907.jpg',\n",
       "  'name': ' The One Gentleman',\n",
       "  'url': '/perfume/Dolce-Gabbana/The-One-Gentleman-8907.html',\n",
       "  'year': '2010'},\n",
       " {'gender': 'female',\n",
       "  'img': 'https://fimgs.net/images/perfume/m.22107.jpg',\n",
       "  'name': ' The One Gold Limited Edition',\n",
       "  'url': '/perfume/Dolce-Gabbana/The-One-Gold-Limited-Edition-22107.html',\n",
       "  'year': '2013'},\n",
       " {'gender': 'female',\n",
       "  'img': 'https://fimgs.net/images/perfume/m.13498.jpg',\n",
       "  'name': ' The One Lace Edition',\n",
       "  'url': '/perfume/Dolce-Gabbana/The-One-Lace-Edition-13498.html',\n",
       "  'year': '2011'},\n",
       " {'gender': 'male',\n",
       "  'img': 'https://fimgs.net/images/perfume/m.33180.jpg',\n",
       "  'name': ' The One Royal Night',\n",
       "  'url': '/perfume/Dolce-Gabbana/The-One-Royal-Night-33180.html',\n",
       "  'year': '2015'},\n",
       " {'gender': 'male',\n",
       "  'img': 'https://fimgs.net/images/perfume/m.14225.jpg',\n",
       "  'name': ' The One Sport',\n",
       "  'url': '/perfume/Dolce-Gabbana/The-One-Sport-14225.html',\n",
       "  'year': '2012'},\n",
       " {'gender': 'male',\n",
       "  'img': 'https://fimgs.net/images/perfume/m.25154.jpg',\n",
       "  'name': ' Velvet Bergamot',\n",
       "  'url': '/perfume/Dolce-Gabbana/Velvet-Bergamot-25154.html',\n",
       "  'year': '2014'},\n",
       " {'gender': 'unisex',\n",
       "  'img': 'https://fimgs.net/images/perfume/m.42825.jpg',\n",
       "  'name': ' Velvet Cypress',\n",
       "  'url': '/perfume/Dolce-Gabbana/Velvet-Cypress-42825.html',\n",
       "  'year': '2017'},\n",
       " {'gender': 'unisex',\n",
       "  'img': 'https://fimgs.net/images/perfume/m.18165.jpg',\n",
       "  'name': ' Velvet Desert Oud',\n",
       "  'url': '/perfume/Dolce-Gabbana/Velvet-Desert-Oud-18165.html',\n",
       "  'year': '2013'},\n",
       " {'gender': 'female',\n",
       "  'img': 'https://fimgs.net/images/perfume/m.13746.jpg',\n",
       "  'name': ' Velvet Desire',\n",
       "  'url': '/perfume/Dolce-Gabbana/Velvet-Desire-13746.html',\n",
       "  'year': '2011'},\n",
       " {'gender': 'unisex',\n",
       "  'img': 'https://fimgs.net/images/perfume/m.31355.jpg',\n",
       "  'name': ' Velvet Exotic Leather',\n",
       "  'url': '/perfume/Dolce-Gabbana/Velvet-Exotic-Leather-31355.html',\n",
       "  'year': '2015'},\n",
       " {'gender': 'female',\n",
       "  'img': 'https://fimgs.net/images/perfume/m.36811.jpg',\n",
       "  'name': ' Velvet Ginestra',\n",
       "  'url': '/perfume/Dolce-Gabbana/Velvet-Ginestra-36811.html',\n",
       "  'year': '2016'},\n",
       " {'gender': 'female',\n",
       "  'img': 'https://fimgs.net/images/perfume/m.13747.jpg',\n",
       "  'name': ' Velvet Love',\n",
       "  'url': '/perfume/Dolce-Gabbana/Velvet-Love-13747.html',\n",
       "  'year': '2011'},\n",
       " {'gender': 'female',\n",
       "  'img': 'https://fimgs.net/images/perfume/m.31356.jpg',\n",
       "  'name': ' Velvet Mimosa Bloom',\n",
       "  'url': '/perfume/Dolce-Gabbana/Velvet-Mimosa-Bloom-31356.html',\n",
       "  'year': '2015'},\n",
       " {'gender': 'unisex',\n",
       "  'img': 'https://fimgs.net/images/perfume/m.13744.jpg',\n",
       "  'name': ' Velvet Patchouli',\n",
       "  'url': '/perfume/Dolce-Gabbana/Velvet-Patchouli-13744.html',\n",
       "  'year': '2011'},\n",
       " {'gender': 'female',\n",
       "  'img': 'https://fimgs.net/images/perfume/m.39623.jpg',\n",
       "  'name': ' Velvet Pure',\n",
       "  'url': '/perfume/Dolce-Gabbana/Velvet-Pure-39623.html',\n",
       "  'year': '2016'},\n",
       " {'gender': 'female',\n",
       "  'img': 'https://fimgs.net/images/perfume/m.25153.jpg',\n",
       "  'name': ' Velvet Rose',\n",
       "  'url': '/perfume/Dolce-Gabbana/Velvet-Rose-25153.html',\n",
       "  'year': '2014'},\n",
       " {'gender': 'unisex',\n",
       "  'img': 'https://fimgs.net/images/perfume/m.13748.jpg',\n",
       "  'name': ' Velvet Sublime',\n",
       "  'url': '/perfume/Dolce-Gabbana/Velvet-Sublime-13748.html',\n",
       "  'year': '2011'},\n",
       " {'gender': 'unisex',\n",
       "  'img': 'https://fimgs.net/images/perfume/m.18164.jpg',\n",
       "  'name': ' Velvet Tender Oud',\n",
       "  'url': '/perfume/Dolce-Gabbana/Velvet-Tender-Oud-18164.html',\n",
       "  'year': '2013'},\n",
       " {'gender': 'unisex',\n",
       "  'img': 'https://fimgs.net/images/perfume/m.13745.jpg',\n",
       "  'name': ' Velvet Vetiver',\n",
       "  'url': '/perfume/Dolce-Gabbana/Velvet-Vetiver-13745.html',\n",
       "  'year': '2011'},\n",
       " {'gender': 'unisex',\n",
       "  'img': 'https://fimgs.net/images/perfume/m.13743.jpg',\n",
       "  'name': ' Velvet Wood',\n",
       "  'url': '/perfume/Dolce-Gabbana/Velvet-Wood-13743.html',\n",
       "  'year': '2011'}]"
      ]
     },
     "execution_count": 9,
     "metadata": {},
     "output_type": "execute_result"
    }
   ],
   "source": [
    "data"
   ]
  },
  {
   "cell_type": "markdown",
   "metadata": {
    "deletable": true,
    "editable": true
   },
   "source": [
    " "
   ]
  },
  {
   "cell_type": "code",
   "execution_count": 16,
   "metadata": {
    "collapsed": false,
    "deletable": true,
    "editable": true
   },
   "outputs": [
    {
     "data": {
      "text/html": [
       "<img src=\"https://fimgs.net/images/perfume/m.486.jpg\" style=\"display:inline;margin:1px\"/><img src=\"https://fimgs.net/images/perfume/m.489.jpg\" style=\"display:inline;margin:1px\"/><img src=\"https://fimgs.net/images/perfume/m.490.jpg\" style=\"display:inline;margin:1px\"/><img src=\"https://fimgs.net/images/perfume/m.483.jpg\" style=\"display:inline;margin:1px\"/><img src=\"https://fimgs.net/images/perfume/m.484.jpg\" style=\"display:inline;margin:1px\"/><img src=\"https://fimgs.net/images/perfume/m.23597.jpg\" style=\"display:inline;margin:1px\"/><img src=\"https://fimgs.net/images/perfume/m.15335.jpg\" style=\"display:inline;margin:1px\"/><img src=\"https://fimgs.net/images/perfume/m.18837.jpg\" style=\"display:inline;margin:1px\"/><img src=\"https://fimgs.net/images/perfume/m.15336.jpg\" style=\"display:inline;margin:1px\"/><img src=\"https://fimgs.net/images/perfume/m.28935.jpg\" style=\"display:inline;margin:1px\"/><img src=\"https://fimgs.net/images/perfume/m.487.jpg\" style=\"display:inline;margin:1px\"/><img src=\"https://fimgs.net/images/perfume/m.488.jpg\" style=\"display:inline;margin:1px\"/><img src=\"https://fimgs.net/images/perfume/m.14407.jpg\" style=\"display:inline;margin:1px\"/><img src=\"https://fimgs.net/images/perfume/m.6842.jpg\" style=\"display:inline;margin:1px\"/><img src=\"https://fimgs.net/images/perfume/m.6089.jpg\" style=\"display:inline;margin:1px\"/><img src=\"https://fimgs.net/images/perfume/m.6088.jpg\" style=\"display:inline;margin:1px\"/><img src=\"https://fimgs.net/images/perfume/m.12483.jpg\" style=\"display:inline;margin:1px\"/><img src=\"https://fimgs.net/images/perfume/m.6085.jpg\" style=\"display:inline;margin:1px\"/><img src=\"https://fimgs.net/images/perfume/m.12484.jpg\" style=\"display:inline;margin:1px\"/><img src=\"https://fimgs.net/images/perfume/m.6087.jpg\" style=\"display:inline;margin:1px\"/><img src=\"https://fimgs.net/images/perfume/m.6086.jpg\" style=\"display:inline;margin:1px\"/><img src=\"https://fimgs.net/images/perfume/m.22955.jpg\" style=\"display:inline;margin:1px\"/><img src=\"https://fimgs.net/images/perfume/m.29524.jpg\" style=\"display:inline;margin:1px\"/><img src=\"https://fimgs.net/images/perfume/m.32612.jpg\" style=\"display:inline;margin:1px\"/><img src=\"https://fimgs.net/images/perfume/m.485.jpg\" style=\"display:inline;margin:1px\"/><img src=\"https://fimgs.net/images/perfume/m.23619.jpg\" style=\"display:inline;margin:1px\"/><img src=\"https://fimgs.net/images/perfume/m.14799.jpg\" style=\"display:inline;margin:1px\"/><img src=\"https://fimgs.net/images/perfume/m.44034.jpg\" style=\"display:inline;margin:1px\"/><img src=\"https://fimgs.net/images/perfume/m.44035.jpg\" style=\"display:inline;margin:1px\"/><img src=\"https://fimgs.net/images/perfume/m.23620.jpg\" style=\"display:inline;margin:1px\"/><img src=\"https://fimgs.net/images/perfume/m.14800.jpg\" style=\"display:inline;margin:1px\"/><img src=\"https://fimgs.net/images/perfume/m.36601.jpg\" style=\"display:inline;margin:1px\"/><img src=\"https://fimgs.net/images/perfume/m.1068.jpg\" style=\"display:inline;margin:1px\"/><img src=\"https://fimgs.net/images/perfume/m.36602.jpg\" style=\"display:inline;margin:1px\"/><img src=\"https://fimgs.net/images/perfume/m.29959.jpg\" style=\"display:inline;margin:1px\"/><img src=\"https://fimgs.net/images/perfume/m.29960.jpg\" style=\"display:inline;margin:1px\"/><img src=\"https://fimgs.net/images/perfume/m.4494.jpg\" style=\"display:inline;margin:1px\"/><img src=\"https://fimgs.net/images/perfume/m.6461.jpg\" style=\"display:inline;margin:1px\"/><img src=\"https://fimgs.net/images/perfume/m.698.jpg\" style=\"display:inline;margin:1px\"/><img src=\"https://fimgs.net/images/perfume/m.27419.jpg\" style=\"display:inline;margin:1px\"/><img src=\"https://fimgs.net/images/perfume/m.27418.jpg\" style=\"display:inline;margin:1px\"/><img src=\"https://fimgs.net/images/perfume/m.17124.jpg\" style=\"display:inline;margin:1px\"/><img src=\"https://fimgs.net/images/perfume/m.31968.jpg\" style=\"display:inline;margin:1px\"/><img src=\"https://fimgs.net/images/perfume/m.2056.jpg\" style=\"display:inline;margin:1px\"/><img src=\"https://fimgs.net/images/perfume/m.31909.jpg\" style=\"display:inline;margin:1px\"/><img src=\"https://fimgs.net/images/perfume/m.22108.jpg\" style=\"display:inline;margin:1px\"/><img src=\"https://fimgs.net/images/perfume/m.8907.jpg\" style=\"display:inline;margin:1px\"/><img src=\"https://fimgs.net/images/perfume/m.22107.jpg\" style=\"display:inline;margin:1px\"/><img src=\"https://fimgs.net/images/perfume/m.13498.jpg\" style=\"display:inline;margin:1px\"/><img src=\"https://fimgs.net/images/perfume/m.33180.jpg\" style=\"display:inline;margin:1px\"/><img src=\"https://fimgs.net/images/perfume/m.14225.jpg\" style=\"display:inline;margin:1px\"/><img src=\"https://fimgs.net/images/perfume/m.25154.jpg\" style=\"display:inline;margin:1px\"/><img src=\"https://fimgs.net/images/perfume/m.42825.jpg\" style=\"display:inline;margin:1px\"/><img src=\"https://fimgs.net/images/perfume/m.18165.jpg\" style=\"display:inline;margin:1px\"/><img src=\"https://fimgs.net/images/perfume/m.13746.jpg\" style=\"display:inline;margin:1px\"/><img src=\"https://fimgs.net/images/perfume/m.31355.jpg\" style=\"display:inline;margin:1px\"/><img src=\"https://fimgs.net/images/perfume/m.36811.jpg\" style=\"display:inline;margin:1px\"/><img src=\"https://fimgs.net/images/perfume/m.13747.jpg\" style=\"display:inline;margin:1px\"/><img src=\"https://fimgs.net/images/perfume/m.31356.jpg\" style=\"display:inline;margin:1px\"/><img src=\"https://fimgs.net/images/perfume/m.13744.jpg\" style=\"display:inline;margin:1px\"/><img src=\"https://fimgs.net/images/perfume/m.39623.jpg\" style=\"display:inline;margin:1px\"/><img src=\"https://fimgs.net/images/perfume/m.25153.jpg\" style=\"display:inline;margin:1px\"/><img src=\"https://fimgs.net/images/perfume/m.13748.jpg\" style=\"display:inline;margin:1px\"/><img src=\"https://fimgs.net/images/perfume/m.18164.jpg\" style=\"display:inline;margin:1px\"/><img src=\"https://fimgs.net/images/perfume/m.13745.jpg\" style=\"display:inline;margin:1px\"/><img src=\"https://fimgs.net/images/perfume/m.13743.jpg\" style=\"display:inline;margin:1px\"/>"
      ],
      "text/plain": [
       "<IPython.core.display.HTML object>"
      ]
     },
     "metadata": {},
     "output_type": "display_data"
    }
   ],
   "source": [
    "# display D&G Perfume Bottles\n",
    "from IPython.display import Image, HTML, display\n",
    "from glob import glob\n",
    "\n",
    "def make_html(image):\n",
    "     return '<img src=\"{}\" style=\"display:inline;margin:1px\"/>'.format(image)\n",
    "\n",
    "item = ''.join( [make_html(x['img']) for x in data] )\n",
    "display(HTML(item))"
   ]
  },
  {
   "cell_type": "markdown",
   "metadata": {
    "collapsed": true,
    "deletable": true,
    "editable": true
   },
   "source": [
    "\n",
    "\n",
    "---\n",
    "This notebook was created by [Dr. Kat](http://github.com/katychuang) for [macbookandheels.com](http://macbookandheels.com). Please give credit if any of the contents are re-used.\n",
    "\n",
    "For any questions, comments, and suggests please contact via [twitter @katychuang](http://twitter.com/katychuang) or [github @katychuang](http://github.com/katychuang)."
   ]
  },
  {
   "cell_type": "code",
   "execution_count": null,
   "metadata": {
    "collapsed": true
   },
   "outputs": [],
   "source": []
  }
 ],
 "metadata": {
  "kernelspec": {
   "display_name": "Python 3",
   "language": "python",
   "name": "python3"
  },
  "language_info": {
   "codemirror_mode": {
    "name": "ipython",
    "version": 3
   },
   "file_extension": ".py",
   "mimetype": "text/x-python",
   "name": "python",
   "nbconvert_exporter": "python",
   "pygments_lexer": "ipython3",
   "version": "3.6.1"
  }
 },
 "nbformat": 4,
 "nbformat_minor": 2
}
