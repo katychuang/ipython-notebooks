{
 "cells": [
  {
   "cell_type": "markdown",
   "metadata": {
    "deletable": true,
    "editable": true
   },
   "source": [
    "# Reading Top Songs With Haskell\n",
    "\n",
    "Author: Kat Chuang [@katychuang](http://twitter.com/katychuang) on Twitter\n",
    "\n",
    "First import the modules we'll need for this exercise."
   ]
  },
  {
   "cell_type": "code",
   "execution_count": 3,
   "metadata": {
    "collapsed": false,
    "deletable": true,
    "editable": true
   },
   "outputs": [],
   "source": [
    "{-# LANGUAGE OverloadedStrings #-}\n",
    "\n",
    "-- Define the module\n",
    "--module TopSongs where\n",
    "\n",
    "import Data.Aeson\n",
    "import Data.Aeson.TH (deriveJSON)\n",
    "import Control.Applicative\n",
    "import qualified Data.ByteString.Lazy as B\n",
    "import qualified Data.Text as T\n",
    "import Text.Show"
   ]
  },
  {
   "cell_type": "code",
   "execution_count": 4,
   "metadata": {
    "collapsed": true
   },
   "outputs": [],
   "source": [
    "data Song = Song {\n",
    "      mediaid :: String,\n",
    "      artist :: String,\n",
    "      title :: String,\n",
    "      dateposted :: Int,\n",
    "      siteid :: Int,\n",
    "      sitename :: String,\n",
    "      posturl :: String,\n",
    "      postid :: Int,\n",
    "      loved_count :: Int,\n",
    "      posted_count :: Int,\n",
    "      thumb_url :: String, \n",
    "      thumb_url_medium :: String,\n",
    "      thumb_url_large :: String,\n",
    "      thumb_url_artist :: Maybe String,\n",
    "      time :: Int,\n",
    "      description :: String,\n",
    "      itunes_link :: String} deriving (Eq, Show, Read)\n",
    "\n",
    "instance FromJSON Song where\n",
    "  parseJSON (Object v) = Song \n",
    "                         <$> (v .: \"mediaid\")\n",
    "                         <*> (v .: \"artist\")\n",
    "                         <*> (v .: \"title\")\n",
    "                         <*> (v .: \"dateposted\")\n",
    "                         <*> (v .: \"siteid\")\n",
    "                         <*> (v .: \"sitename\")\n",
    "                         <*> (v .: \"posturl\")\n",
    "                         <*> (v .: \"postid\")\n",
    "                         <*> (v .: \"loved_count\")\n",
    "                         <*> (v .: \"posted_count\")\n",
    "                         <*> (v .: \"thumb_url\")\n",
    "                         <*> (v .: \"thumb_url_medium\")\n",
    "                         <*> (v .: \"thumb_url_large\")\n",
    "                         <*> (v .: \"thumb_url_artist\")\n",
    "                         <*> (v .: \"time\")\n",
    "                         <*> (v .: \"description\")\n",
    "                         <*> (v .: \"itunes_link\")"
   ]
  },
  {
   "cell_type": "code",
   "execution_count": 5,
   "metadata": {
    "collapsed": true
   },
   "outputs": [],
   "source": [
    "data Songs = Songs { \n",
    "    song0 :: Song,\n",
    "    song1 :: Song,\n",
    "    song2 :: Song,\n",
    "    song3 :: Song,\n",
    "    song4 :: Song,\n",
    "    song5 :: Song,\n",
    "    song6 :: Song,\n",
    "    song7 :: Song,\n",
    "    song8 :: Song,\n",
    "    song9 :: Song,\n",
    "    song10 :: Song,\n",
    "    song11 :: Song,\n",
    "    song12 :: Song,\n",
    "    song13 :: Song,\n",
    "    song14 :: Song,\n",
    "    song15 :: Song,\n",
    "    song16 :: Song,\n",
    "    song17 :: Song,\n",
    "    song18 :: Song,\n",
    "    song19 :: Song} deriving (Eq, Show, Read)\n",
    "\n",
    "    \n",
    "instance FromJSON Songs where\n",
    "  parseJSON (Object v) = Songs\n",
    "                         <$> (v .: \"0\")\n",
    "                         <*> (v .: \"1\")\n",
    "                         <*> (v .: \"2\")\n",
    "                         <*> (v .: \"3\")\n",
    "                         <*> (v .: \"4\")\n",
    "                         <*> (v .: \"5\")\n",
    "                         <*> (v .: \"6\")\n",
    "                         <*> (v .: \"7\")\n",
    "                         <*> (v .: \"8\")\n",
    "                         <*> (v .: \"9\")\n",
    "                         <*> (v .: \"10\")\n",
    "                         <*> (v .: \"11\")\n",
    "                         <*> (v .: \"12\")\n",
    "                         <*> (v .: \"13\")\n",
    "                         <*> (v .: \"14\")\n",
    "                         <*> (v .: \"15\")\n",
    "                         <*> (v .: \"16\")\n",
    "                         <*> (v .: \"17\")\n",
    "                         <*> (v .: \"18\")\n",
    "                         <*> (v .: \"19\")\n",
    "  parseJSON _          = empty"
   ]
  },
  {
   "cell_type": "markdown",
   "metadata": {
    "deletable": true,
    "editable": true
   },
   "source": [
    "Define the data types"
   ]
  },
  {
   "cell_type": "code",
   "execution_count": null,
   "metadata": {
    "collapsed": false,
    "deletable": true,
    "editable": true
   },
   "outputs": [],
   "source": [
    "\n",
    "\n",
    "-- Define the module"
   ]
  },
  {
   "cell_type": "code",
   "execution_count": null,
   "metadata": {
    "collapsed": false,
    "deletable": true,
    "editable": true
   },
   "outputs": [],
   "source": []
  },
  {
   "cell_type": "code",
   "execution_count": 6,
   "metadata": {
    "collapsed": false,
    "deletable": true,
    "editable": true
   },
   "outputs": [],
   "source": [
    "main :: IO ()\n",
    "main = do\n",
    "  input <- B.readFile \"_data/songlist.json\"\n",
    "  let (Just song) = decode input :: Maybe Songs\n",
    "\n",
    "  Prelude.putStrLn $ myFunction song0 song\n",
    "  Prelude.putStrLn $ myFunction song1 song\n",
    "  Prelude.putStrLn $ myFunction song2 song\n",
    "  Prelude.putStrLn $ myFunction song3 song\n",
    "  Prelude.putStrLn $ myFunction song4 song\n",
    "  Prelude.putStrLn $ myFunction song5 song\n",
    "  Prelude.putStrLn $ myFunction song6 song\n",
    "  Prelude.putStrLn $ myFunction song7 song\n",
    "  Prelude.putStrLn $ myFunction song8 song\n",
    "  Prelude.putStrLn $ myFunction song9 song\n",
    "  Prelude.putStrLn $ myFunction song10 song\n",
    "  Prelude.putStrLn $ myFunction song11 song\n",
    "  Prelude.putStrLn $ myFunction song12 song\n",
    "  Prelude.putStrLn $ myFunction song13 song\n",
    "  Prelude.putStrLn $ myFunction song14 song\n",
    "  Prelude.putStrLn $ myFunction song15 song\n",
    "  Prelude.putStrLn $ myFunction song16 song\n",
    "  Prelude.putStrLn $ myFunction song17 song\n",
    "  Prelude.putStrLn $ myFunction song18 song\n",
    "  Prelude.putStrLn $ myFunction song19 song\n",
    "\n",
    "myFunction y xs = \"\\\"\" ++ title (y xs) ++ \"\\\" by \" ++ artist (y xs) ++ \" [\" ++ ( show (loved_count (y xs))) ++ \"] \""
   ]
  },
  {
   "cell_type": "code",
   "execution_count": 7,
   "metadata": {
    "collapsed": false,
    "deletable": true,
    "editable": true
   },
   "outputs": [
    {
     "data": {
      "text/plain": [
       "\"Gemini feat. George Maple\" by What So Not [6155] \n",
       "\"Borderline\" by Vanic X Tove Styrke [3610] \n",
       "\"Burn With Me\" by Whilk and Misky [1981] \n",
       "\"Promises (feat. Fetty Wap & Dubbel Dutch)\" by Baauer [2375] \n",
       "\"Skeletons\" by Trails and Ways [1754] \n",
       "\"Adam's Song (Kasum Remix)\" by Blink 182 [2147] \n",
       "\"Circles\" by Vanic X machineheart [15131] \n",
       "\"Talking Body (Panic City Remix)\" by Tove Lo [935] \n",
       "\"Throw Some D's (LUCA LUSH & Dirty Chocolate Remix)\" by Rich Boy [1330] \n",
       "\"Outside (Anevo Remix)\" by Calvin Harris feat. Ellie Goulding [743] \n",
       "\"Born Free (SoySauce Edition)\" by Stalking Gia [1448] \n",
       "\"Helios Feat. Wayne Snow\" by Darius [1092] \n",
       "\"Open Up\" by Gallant [1377] \n",
       "\"HIGH\" by SIVIK [468] \n",
       "\"Shout (PINEO Remix)\" by Tears For Fears [716] \n",
       "\"Body (Stint Remix)\" by Niia [1123] \n",
       "\"Timeless (Tchami Remix)\" by Caroline Koch [654] \n",
       "\"VIII feat. Alexa Harley\" by Mt. Wolf [493] \n",
       "\"Zenith\" by Ben Khan [925] \n",
       "\"Finally (Original Mix)\" by Mr. Belt & Wezol [681]"
      ]
     },
     "metadata": {},
     "output_type": "display_data"
    }
   ],
   "source": [
    "main"
   ]
  }
 ],
 "metadata": {
  "kernelspec": {
   "display_name": "Haskell",
   "language": "haskell",
   "name": "haskell"
  },
  "language_info": {
   "codemirror_mode": "ihaskell",
   "file_extension": ".hs",
   "name": "haskell",
   "version": "8.0.2"
  }
 },
 "nbformat": 4,
 "nbformat_minor": 0
}
