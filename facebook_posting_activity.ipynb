{
 "cells": [
  {
   "cell_type": "markdown",
   "metadata": {
    "deletable": true,
    "editable": true
   },
   "source": [
    "# Connecting to Facebook API\n",
    "\n",
    "Written by Kat Chuang [@katychuang](http://twitter.com/katychuang)\n",
    "\n",
    "## Objective\n",
    "\n",
    "The goal of this exercise is to connect with Facebook Graph Api to collect information about my most recent posts, and also to collect each posts' subsequent comments and likes.\n",
    "\n",
    "## Setup\n",
    "\n",
    "- I first created a virtual environment for my notebooks: `mkvirtualenv --python=/usr/local/bin/python3 dataAnalysis`\n",
    "- Then installed the notebook server to the machine. Instructions can be [found here](http://jupyter.org/install.html)\n",
    "- Start server in the root directory, `jupyter notebook`\n",
    "\n",
    "In addition to getting the console ready, I saved my access token information in a separate local folder, `_keys` in a file name `facebook.py`. Inside you want to save a string variable like the following:\n",
    "\n",
    "```\n",
    "ACCESS_TOKEN=\"XXXXXX\"\n",
    "```\n"
   ]
  },
  {
   "cell_type": "markdown",
   "metadata": {
    "deletable": true,
    "editable": true
   },
   "source": [
    "## Making a request"
   ]
  },
  {
   "cell_type": "code",
   "execution_count": 1,
   "metadata": {
    "collapsed": false,
    "deletable": true,
    "editable": true
   },
   "outputs": [
    {
     "name": "stdout",
     "output_type": "stream",
     "text": [
      "{'message': \"Yesterday morning I woke up surprisingly early after going to sleep late coding. Did weekly laundry and made breakfast, it's been awhile since I've cooked. Had mushrooms leftover from making pasta earlier in the week so I used it up for breakfast. \\n\\nHot sauce covered scrambled eggs with mushroom and bacon with a large cup of coffee to code more. I like to use a mug warmer to keep my beverages hot 😁\\n\\nOne of these days I'm going to learn to make omurice!! With brown rice instead of white and hot sauce instead of ketchup. \\n\\nhttps://www.youtube.com/watch?v=bcJlmhoYNfI&t=6s\", 'story': 'Kat Chuang added a new photo to album: MMXVII.', 'created_time': '2017-03-19T22:23:36+0000', 'id': '10103434986805726_10106726635894566'} \n",
      "\n"
     ]
    }
   ],
   "source": [
    "from _keys.facebook import USER_ID, ACCESS_TOKEN\n",
    "import requests\n",
    "\n",
    "u = 'https://graph.facebook.com/v2.8/{}/posts?access_token={}'.format(USER_ID, ACCESS_TOKEN)\n",
    "r = requests.get(u)\n",
    "data = requests.get(u).json()\n",
    "\n",
    "print(data[\"data\"][0], \"\\n\")\n",
    "\n"
   ]
  },
  {
   "cell_type": "markdown",
   "metadata": {
    "deletable": true,
    "editable": true
   },
   "source": [
    "The JSON data is saved into the variable `data`,which is a list of dictionaries, so we can now use the data structure functions to access information for each story. Here are the two most recent posts' IDs and timestamps."
   ]
  },
  {
   "cell_type": "code",
   "execution_count": 2,
   "metadata": {
    "collapsed": false,
    "deletable": true,
    "editable": true
   },
   "outputs": [
    {
     "name": "stdout",
     "output_type": "stream",
     "text": [
      "10103434986805726_10106726635894566 2017-03-19T22:23:36+0000\n",
      "10103434986805726_10106726518130566 2017-03-19T21:45:38+0000\n"
     ]
    }
   ],
   "source": [
    "# Two most recent posts:\n",
    "print(data['data'][0]['id'], data['data'][0]['created_time'])\n",
    "print(data['data'][1]['id'], data['data'][1]['created_time'])"
   ]
  },
  {
   "cell_type": "markdown",
   "metadata": {
    "deletable": true,
    "editable": true
   },
   "source": [
    "## Parsing data\n",
    "\n",
    "The next step is to save this data for analysis. We could save it into a text file. We could save it into a database. Since this is a small amount of data (n=25), I chose to iterate quickly on developing the code by loading the JSON response directly into a Python dataframe.\n",
    "\n",
    "Let's see what happens when we use json_normalize to flatten the JSON response:\n"
   ]
  },
  {
   "cell_type": "code",
   "execution_count": 3,
   "metadata": {
    "collapsed": false,
    "deletable": true,
    "editable": true
   },
   "outputs": [
    {
     "data": {
      "text/plain": [
       "['Sunday',\n",
       " 'Sunday',\n",
       " 'Sunday',\n",
       " 'Sunday',\n",
       " 'Friday',\n",
       " 'Thursday',\n",
       " 'Wednesday',\n",
       " 'Sunday',\n",
       " 'Sunday',\n",
       " 'Saturday',\n",
       " 'Saturday',\n",
       " 'Friday',\n",
       " 'Friday',\n",
       " 'Friday',\n",
       " 'Thursday',\n",
       " 'Thursday',\n",
       " 'Sunday',\n",
       " 'Sunday',\n",
       " 'Saturday',\n",
       " 'Thursday',\n",
       " 'Wednesday',\n",
       " 'Tuesday',\n",
       " 'Wednesday',\n",
       " 'Friday',\n",
       " 'Saturday']"
      ]
     },
     "execution_count": 3,
     "metadata": {},
     "output_type": "execute_result"
    }
   ],
   "source": [
    "import datetime\n",
    "from dateutil import parser\n",
    "\n",
    "# return \n",
    "def scrub(timestamp):\n",
    "    d = parser.parse(timestamp)\n",
    "    return dow(d)\n",
    "\n",
    "# returns day of week\n",
    "def dow(date):\n",
    "    days=[\"Monday\",\"Tuesday\",\"Wednesday\",\"Thursday\",\"Friday\",\"Saturday\",\"Sunday\"]\n",
    "    dayNumber=date.weekday()\n",
    "    return days[dayNumber]\n",
    "\n",
    "list(map((lambda x: scrub(x['created_time'])), data['data'] ))"
   ]
  }
 ],
 "metadata": {
  "kernelspec": {
   "display_name": "Python 3",
   "language": "python",
   "name": "python3"
  },
  "language_info": {
   "codemirror_mode": {
    "name": "ipython",
    "version": 3
   },
   "file_extension": ".py",
   "mimetype": "text/x-python",
   "name": "python",
   "nbconvert_exporter": "python",
   "pygments_lexer": "ipython3",
   "version": "3.6.0"
  }
 },
 "nbformat": 4,
 "nbformat_minor": 2
}
